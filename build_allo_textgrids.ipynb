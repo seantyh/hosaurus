{
 "cells": [
  {
   "cell_type": "markdown",
   "id": "2846c550-a475-4662-9c94-338a609ce8c5",
   "metadata": {},
   "source": [
    "# Allo Textgrid\n",
    "## Build allosaurus textgrids from emit frames"
   ]
  },
  {
   "cell_type": "code",
   "execution_count": 1,
   "id": "2d6f1c79-1cbc-44ad-bbc7-9f369bff2fa5",
   "metadata": {},
   "outputs": [],
   "source": [
    "from pathlib import Path\n",
    "import joblib\n",
    "from praatio import textgrid\n",
    "from hashlib import sha1\n",
    "from itertools import zip_longest"
   ]
  },
  {
   "cell_type": "markdown",
   "id": "97f0892c-c4b7-4138-90e6-4b73c9b88afd",
   "metadata": {},
   "source": [
    "## Data dependencies\n",
    "```\n",
    "data\\emit_frames_劉櫂豪-127903.pkl 92b132\n",
    "data\\emit_frames_許淑華-127889.pkl cdd4ec\n",
    "data\\emit_frames_趙正宇-127849.pkl 259504\n",
    "data\\emit_frames_陳椒華-127940.pkl 4a7e81\n",
    "data\\emit_frames_陳瑩-128068.pkl c95f5f\n",
    "data\\emit_frames_黃國書-127909.pkl ff109a\n",
    "```"
   ]
  },
  {
   "cell_type": "code",
   "execution_count": 2,
   "id": "1d5c5257-b119-4860-8702-7302da2c825d",
   "metadata": {},
   "outputs": [
    {
     "name": "stdout",
     "output_type": "stream",
     "text": [
      "data\\emit_frames_劉櫂豪-127903.pkl 92b132\n",
      "data\\emit_frames_許淑華-127889.pkl cdd4ec\n",
      "data\\emit_frames_趙正宇-127849.pkl 259504\n",
      "data\\emit_frames_陳椒華-127940.pkl 4a7e81\n",
      "data\\emit_frames_陳瑩-128068.pkl c95f5f\n",
      "data\\emit_frames_黃國書-127909.pkl ff109a\n"
     ]
    }
   ],
   "source": [
    "for path_x in Path(\"data\").glob(\"emit*.pkl\"):\n",
    "    h = sha1()\n",
    "    h.update(path_x.read_bytes())\n",
    "    print(path_x, h.hexdigest()[:6])\n",
    "    frames = joblib.load(path_x)\n",
    "    \n",
    "    for x, y in zip_longest(frames, frames[1:]):\n",
    "        if y is None:\n",
    "            end_time = x.offset_s+.045\n",
    "        else:\n",
    "            end_time = y.offset_s\n",
    "        x.endtime_s = end_time\n",
    "    \n",
    "    tg = textgrid.Textgrid()\n",
    "    frame_entries = [(x.offset_s, y.offset_s, x.phone_token) for x, y in zip(frames, frames[1:])]\n",
    "    frame_tier = textgrid.IntervalTier('allosaurus', frame_entries[::2], 0, frames[-1].offset_s+.045)\n",
    "    tg_path_x = str(path_x).replace(\".pkl\", \".allo.TextGrid\")\n",
    "    tg.addTier(frame_tier)\n",
    "    tg.save(tg_path_x, format=\"short_textgrid\", includeBlankSpaces=False)"
   ]
  },
  {
   "cell_type": "markdown",
   "id": "72c8b82c-c0f1-4379-8bcf-ae655b0256c4",
   "metadata": {},
   "source": [
    "## Output hashes"
   ]
  },
  {
   "cell_type": "markdown",
   "id": "73ec7f75-d34c-402c-901b-ac1e1844b550",
   "metadata": {},
   "source": [
    "```\n",
    "data\\emit_frames_劉櫂豪-127903.allo.TextGrid 0afd72\n",
    "data\\emit_frames_許淑華-127889.allo.TextGrid 6339bf\n",
    "data\\emit_frames_趙正宇-127849.allo.TextGrid e42086\n",
    "data\\emit_frames_陳椒華-127940.allo.TextGrid 4bac2d\n",
    "data\\emit_frames_陳瑩-128068.allo.TextGrid 7c1a55\n",
    "data\\emit_frames_黃國書-127909.allo.TextGrid 4b3931\n",
    "```"
   ]
  },
  {
   "cell_type": "code",
   "execution_count": 3,
   "id": "f7f400f9-beba-4041-880d-2ef667833914",
   "metadata": {},
   "outputs": [
    {
     "name": "stdout",
     "output_type": "stream",
     "text": [
      "data\\emit_frames_劉櫂豪-127903.allo.TextGrid 0afd72\n",
      "data\\emit_frames_許淑華-127889.allo.TextGrid 6339bf\n",
      "data\\emit_frames_趙正宇-127849.allo.TextGrid e42086\n",
      "data\\emit_frames_陳椒華-127940.allo.TextGrid 4bac2d\n",
      "data\\emit_frames_陳瑩-128068.allo.TextGrid 7c1a55\n",
      "data\\emit_frames_黃國書-127909.allo.TextGrid 4b3931\n"
     ]
    }
   ],
   "source": [
    "for path_x in Path(\"data\").glob(\"emit*.allo.TextGrid\"):\n",
    "    h = sha1()\n",
    "    h.update(path_x.read_bytes())\n",
    "    print(path_x, h.hexdigest()[:6])"
   ]
  },
  {
   "cell_type": "code",
   "execution_count": null,
   "id": "70f8fd1e-b5e6-4c77-9589-86e022ab410b",
   "metadata": {},
   "outputs": [],
   "source": []
  }
 ],
 "metadata": {
  "kernelspec": {
   "display_name": "Python 3 (ipykernel)",
   "language": "python",
   "name": "python3"
  },
  "language_info": {
   "codemirror_mode": {
    "name": "ipython",
    "version": 3
   },
   "file_extension": ".py",
   "mimetype": "text/x-python",
   "name": "python",
   "nbconvert_exporter": "python",
   "pygments_lexer": "ipython3",
   "version": "3.10.2"
  }
 },
 "nbformat": 4,
 "nbformat_minor": 5
}
