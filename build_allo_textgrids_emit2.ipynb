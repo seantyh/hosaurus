{
 "cells": [
  {
   "cell_type": "code",
   "execution_count": 1,
   "id": "447daabc-7542-4898-8639-582bc4d5e33f",
   "metadata": {},
   "outputs": [],
   "source": [
    "from allosaurus.app import read_recognizer\n",
    "from praatio import textgrid\n",
    "from itertools import zip_longest\n",
    "from hashlib import sha1\n",
    "from pathlib import Path\n",
    "from tqdm.auto import tqdm\n",
    "import joblib"
   ]
  },
  {
   "cell_type": "markdown",
   "id": "8e987d68-a3f1-4ea3-81bb-0fd39880965c",
   "metadata": {},
   "source": [
    "## Allosaurus branch\n",
    "`https://github.com/seantyh/allosaurus-emit/tree/5366a7`"
   ]
  },
  {
   "cell_type": "markdown",
   "id": "9a3322db-d9ca-4522-936b-98e7acd47f4f",
   "metadata": {},
   "source": [
    "## Data dependencies"
   ]
  },
  {
   "cell_type": "code",
   "execution_count": 2,
   "id": "8de63f6e-08b7-4c52-97cc-76b8373b9af6",
   "metadata": {
    "tags": [
     "data-dep"
    ]
   },
   "outputs": [
    {
     "name": "stdout",
     "output_type": "stream",
     "text": [
      "data\\劉櫂豪-127903.wav\ta2caca\n",
      "data\\許淑華-127889.wav\tb76b15\n",
      "data\\趙正宇-127849.wav\td8bb3e\n",
      "data\\陳椒華-127940.wav\t0071cb\n",
      "data\\陳瑩-128068.wav\t34d27f\n",
      "data\\黃國書-127909.wav\t2a7fac\n"
     ]
    }
   ],
   "source": [
    "wav_paths = list(Path(\"data\").glob(\"*.wav\"))\n",
    "for path_x in wav_paths:\n",
    "    h = sha1()\n",
    "    h.update(path_x.read_bytes())\n",
    "    print(path_x, h.hexdigest()[:6], sep=\"\\t\")"
   ]
  },
  {
   "cell_type": "markdown",
   "id": "4a0c0fb9-bf92-4bc0-85f8-3a77eac60ce9",
   "metadata": {},
   "source": [
    "## Setting-up environment"
   ]
  },
  {
   "cell_type": "code",
   "execution_count": 3,
   "id": "fc98a0f0-72a9-4bc1-bd88-018d17bfa8be",
   "metadata": {},
   "outputs": [],
   "source": [
    "model = read_recognizer()"
   ]
  },
  {
   "cell_type": "code",
   "execution_count": 4,
   "id": "42e3d1a6-9e75-4641-adc6-4acf3311fb53",
   "metadata": {
    "tags": [
     "data-dep"
    ]
   },
   "outputs": [
    {
     "data": {
      "text/plain": [
       "[WindowsPath('data/劉櫂豪-127903.wav'),\n",
       " WindowsPath('data/許淑華-127889.wav'),\n",
       " WindowsPath('data/趙正宇-127849.wav'),\n",
       " WindowsPath('data/陳椒華-127940.wav'),\n",
       " WindowsPath('data/陳瑩-128068.wav'),\n",
       " WindowsPath('data/黃國書-127909.wav')]"
      ]
     },
     "execution_count": 4,
     "metadata": {},
     "output_type": "execute_result"
    }
   ],
   "source": [
    "wav_paths = list(Path(\"data\").glob(\"*.wav\"))\n",
    "out_dir = Path(\"data/emit2\")\n",
    "out_dir.mkdir(parents=True, exist_ok=True)\n",
    "wav_paths"
   ]
  },
  {
   "cell_type": "markdown",
   "id": "97ef7687-5bdd-4a7d-b89a-3ea6ad957326",
   "metadata": {},
   "source": [
    "## Generate emit frames & TextGrids"
   ]
  },
  {
   "cell_type": "code",
   "execution_count": 5,
   "id": "70f8fd1e-b5e6-4c77-9589-86e022ab410b",
   "metadata": {},
   "outputs": [
    {
     "data": {
      "application/vnd.jupyter.widget-view+json": {
       "model_id": "43355c5d92874f81b094b20ac6350b29",
       "version_major": 2,
       "version_minor": 0
      },
      "text/plain": [
       "  0%|          | 0/6 [00:00<?, ?it/s]"
      ]
     },
     "metadata": {},
     "output_type": "display_data"
    }
   ],
   "source": [
    "emit_val = 2\n",
    "for wav_path_x in tqdm(wav_paths, ):\n",
    "    frames = model.recognize(wav_path_x, lang_id=\"cmn\", emit=emit_val)\n",
    "    for x, y in zip_longest(frames, frames[1:]):\n",
    "        if y is None:\n",
    "            end_time = x.offset_s+.045\n",
    "        else:\n",
    "            end_time = y.offset_s\n",
    "        x.endtime_s = end_time\n",
    "\n",
    "    tg = textgrid.Textgrid()\n",
    "    frame_entries = [(x.offset_s, y.offset_s, x.phone_token) for x, y in zip(frames, frames[1:])]\n",
    "    frame_tier = textgrid.IntervalTier('allosaurus', frame_entries[::1], 0, frames[-1].offset_s+.045)\n",
    "    tg_name = wav_path_x.name.replace(\".wav\", f\".allo.emit{emit_val}.TextGrid\")\n",
    "    tg_path_x = out_dir / tg_name\n",
    "    tg.addTier(frame_tier)\n",
    "    tg.save(tg_path_x, format=\"short_textgrid\", includeBlankSpaces=False)\n",
    "    \n",
    "    emit_name = \"emit_frames_\" + wav_path_x.name.replace(\".wav\", \".emit2.pkl\")\n",
    "    emit_path_x = out_dir / emit_name\n",
    "    joblib.dump(frames, emit_path_x)"
   ]
  },
  {
   "cell_type": "markdown",
   "id": "e4a3ba08-b8fb-495f-84fd-107210bf5cea",
   "metadata": {},
   "source": [
    "## Output hashes"
   ]
  },
  {
   "cell_type": "markdown",
   "id": "ca2bfbb1-ca7c-4766-b0af-d754030a126d",
   "metadata": {},
   "source": [
    "```\n",
    "data\\emit2\\emit_frames_劉櫂豪-127903.emit2.pkl\tb9b100\n",
    "data\\emit2\\emit_frames_許淑華-127889.emit2.pkl\t27dd8b\n",
    "data\\emit2\\emit_frames_趙正宇-127849.emit2.pkl\tb43c78\n",
    "data\\emit2\\emit_frames_陳椒華-127940.emit2.pkl\td714a9\n",
    "data\\emit2\\emit_frames_陳瑩-128068.emit2.pkl\taef224\n",
    "data\\emit2\\emit_frames_黃國書-127909.emit2.pkl\t5fd6d6\n",
    "data\\emit2\\劉櫂豪-127903.allo.emit2.TextGrid\tf37c11\n",
    "data\\emit2\\許淑華-127889.allo.emit2.TextGrid\tb068be\n",
    "data\\emit2\\趙正宇-127849.allo.emit2.TextGrid\t37a2fc\n",
    "data\\emit2\\陳椒華-127940.allo.emit2.TextGrid\tc17801\n",
    "data\\emit2\\陳瑩-128068.allo.emit2.TextGrid\t999111\n",
    "data\\emit2\\黃國書-127909.allo.emit2.TextGrid\t008788\n",
    "----\n",
    "Overall Hash:  57438b\n",
    "```"
   ]
  },
  {
   "cell_type": "code",
   "execution_count": 7,
   "id": "2658d942-70e9-47b0-bc1b-2ddf3b5303bb",
   "metadata": {
    "tags": [
     "out-hash"
    ]
   },
   "outputs": [
    {
     "name": "stdout",
     "output_type": "stream",
     "text": [
      "data\\emit2\\emit_frames_劉櫂豪-127903.emit2.pkl\tb9b100\n",
      "data\\emit2\\emit_frames_許淑華-127889.emit2.pkl\t27dd8b\n",
      "data\\emit2\\emit_frames_趙正宇-127849.emit2.pkl\tb43c78\n",
      "data\\emit2\\emit_frames_陳椒華-127940.emit2.pkl\td714a9\n",
      "data\\emit2\\emit_frames_陳瑩-128068.emit2.pkl\taef224\n",
      "data\\emit2\\emit_frames_黃國書-127909.emit2.pkl\t5fd6d6\n",
      "data\\emit2\\劉櫂豪-127903.allo.emit2.TextGrid\tf37c11\n",
      "data\\emit2\\許淑華-127889.allo.emit2.TextGrid\tb068be\n",
      "data\\emit2\\趙正宇-127849.allo.emit2.TextGrid\t37a2fc\n",
      "data\\emit2\\陳椒華-127940.allo.emit2.TextGrid\tc17801\n",
      "data\\emit2\\陳瑩-128068.allo.emit2.TextGrid\t999111\n",
      "data\\emit2\\黃國書-127909.allo.emit2.TextGrid\t008788\n",
      "----\n",
      "Overall Hash:  57438b\n"
     ]
    }
   ],
   "source": [
    "hash_buf = []\n",
    "for path_x in out_dir.iterdir():\n",
    "    h = sha1()\n",
    "    h.update(path_x.read_bytes())\n",
    "    msg = h.hexdigest()\n",
    "    hash_buf.append(f\"{str(path_x)}\\t{msg[:6]}\")\n",
    "    print(path_x, msg[:6], sep=\"\\t\")\n",
    "\n",
    "h = sha1()\n",
    "h.update(\"\".join(hash_buf).encode())\n",
    "print(\"----\\nOverall Hash: \", h.hexdigest()[:6])"
   ]
  },
  {
   "cell_type": "code",
   "execution_count": null,
   "id": "36a068cd-8037-4303-821d-bdfce4b7b3cd",
   "metadata": {},
   "outputs": [],
   "source": []
  }
 ],
 "metadata": {
  "kernelspec": {
   "display_name": "Python 3 (ipykernel)",
   "language": "python",
   "name": "python3"
  },
  "language_info": {
   "codemirror_mode": {
    "name": "ipython",
    "version": 3
   },
   "file_extension": ".py",
   "mimetype": "text/x-python",
   "name": "python",
   "nbconvert_exporter": "python",
   "pygments_lexer": "ipython3",
   "version": "3.10.2"
  }
 },
 "nbformat": 4,
 "nbformat_minor": 5
}
