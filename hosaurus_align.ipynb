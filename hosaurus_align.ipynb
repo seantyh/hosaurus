{
 "cells": [
  {
   "cell_type": "code",
   "execution_count": 1,
   "id": "e88ab2ea-c93c-477c-9b26-3379f43c0bf6",
   "metadata": {},
   "outputs": [],
   "source": [
    "from hashlib import md5\n",
    "from pathlib import Path\n",
    "import pandas as pd\n",
    "import numpy as np\n",
    "from tqdm.auto import tqdm"
   ]
  },
  {
   "cell_type": "code",
   "execution_count": 2,
   "id": "4b20d3f0-d274-4111-a1fc-fe5342fa4c85",
   "metadata": {},
   "outputs": [],
   "source": [
    "def file_hash(x, note=\"\"):\n",
    "    h = md5()\n",
    "    h.update(Path(x).read_bytes())\n",
    "    print(x, h.hexdigest()[:6], note, sep=\"\\t\")"
   ]
  },
  {
   "cell_type": "markdown",
   "id": "db3b7c10-dd70-4bd5-a957-071ec035d5d3",
   "metadata": {},
   "source": [
    "## Data dependencies\n",
    "```\n",
    "./data/new_emit_all.pkl\t4c57d2\t\n",
    "./data/tsnedf_100.pkl\tfb9d93\t\n",
    "./data/all_data.csv\ta4e413\tCRLF\n",
    "```"
   ]
  },
  {
   "cell_type": "code",
   "execution_count": 3,
   "id": "63985450-b84b-4807-bc5f-8177a08581df",
   "metadata": {},
   "outputs": [
    {
     "name": "stdout",
     "output_type": "stream",
     "text": [
      "./data/new_emit_all.pkl\t4c57d2\t\n",
      "./data/tsnedf_100.pkl\tfb9d93\t\n",
      "./data/all_data.csv\ta4e413\tCRLF\n"
     ]
    }
   ],
   "source": [
    "# all_data.csv might be different\n",
    "file_hash(\"./data/new_emit_all.pkl\")\n",
    "file_hash('./data/tsnedf_100.pkl')\n",
    "file_hash(\"./data/all_data.csv\", \"CRLF\")"
   ]
  },
  {
   "cell_type": "code",
   "execution_count": 4,
   "id": "959bf18d-061f-45d8-a11c-7a22833ba579",
   "metadata": {},
   "outputs": [],
   "source": [
    "new_emit_all = pd.read_pickle('./data/new_emit_all.pkl')\n",
    "ac_data = pd.read_csv(\"./data/all_data.csv\")\n",
    "tsnedf = pd.read_pickle('./data/tsnedf_100.pkl')\n",
    "\n",
    "ac_data = ac_data.rename({\"nasality (a1-p0)\": \"nasality\"}, axis=1)\n",
    "new_emit_all = pd.concat([new_emit_all.reset_index(drop=True), tsnedf], axis=1)\n",
    "new_emit_all[\"next_offset_s\"] = new_emit_all.shift(-1, fill_value=-1).offset_s"
   ]
  },
  {
   "cell_type": "code",
   "execution_count": 5,
   "id": "108fd476-1a22-4235-9f67-b981fe9d7ea2",
   "metadata": {},
   "outputs": [
    {
     "data": {
      "text/html": [
       "<div>\n",
       "<style scoped>\n",
       "    .dataframe tbody tr th:only-of-type {\n",
       "        vertical-align: middle;\n",
       "    }\n",
       "\n",
       "    .dataframe tbody tr th {\n",
       "        vertical-align: top;\n",
       "    }\n",
       "\n",
       "    .dataframe thead th {\n",
       "        text-align: right;\n",
       "    }\n",
       "</style>\n",
       "<table border=\"1\" class=\"dataframe\">\n",
       "  <thead>\n",
       "    <tr style=\"text-align: right;\">\n",
       "      <th></th>\n",
       "      <th>offset_id</th>\n",
       "      <th>offset_s</th>\n",
       "      <th>bilstm</th>\n",
       "      <th>phone</th>\n",
       "      <th>filename</th>\n",
       "      <th>has_match</th>\n",
       "      <th>match_ho_id</th>\n",
       "      <th>ho_datalist</th>\n",
       "      <th>comp-1</th>\n",
       "      <th>comp-2</th>\n",
       "      <th>next_offset_s</th>\n",
       "    </tr>\n",
       "  </thead>\n",
       "  <tbody>\n",
       "    <tr>\n",
       "      <th>0</th>\n",
       "      <td>346</td>\n",
       "      <td>10.38</td>\n",
       "      <td>[0.008234375, 0.036981307, 0.05118245, 0.02981...</td>\n",
       "      <td>t̪ʰ</td>\n",
       "      <td>劉櫂豪-127903</td>\n",
       "      <td>no</td>\n",
       "      <td>None</td>\n",
       "      <td>[]</td>\n",
       "      <td>-5.941576</td>\n",
       "      <td>-25.208309</td>\n",
       "      <td>10.44</td>\n",
       "    </tr>\n",
       "    <tr>\n",
       "      <th>1</th>\n",
       "      <td>348</td>\n",
       "      <td>10.44</td>\n",
       "      <td>[-0.093030915, -0.24093345, 0.037780587, 0.111...</td>\n",
       "      <td>e</td>\n",
       "      <td>劉櫂豪-127903</td>\n",
       "      <td>no</td>\n",
       "      <td>None</td>\n",
       "      <td>[]</td>\n",
       "      <td>5.955706</td>\n",
       "      <td>33.086273</td>\n",
       "      <td>11.64</td>\n",
       "    </tr>\n",
       "  </tbody>\n",
       "</table>\n",
       "</div>"
      ],
      "text/plain": [
       "   offset_id  offset_s                                             bilstm  \\\n",
       "0        346     10.38  [0.008234375, 0.036981307, 0.05118245, 0.02981...   \n",
       "1        348     10.44  [-0.093030915, -0.24093345, 0.037780587, 0.111...   \n",
       "\n",
       "  phone    filename has_match match_ho_id ho_datalist    comp-1     comp-2  \\\n",
       "0   t̪ʰ  劉櫂豪-127903        no        None          [] -5.941576 -25.208309   \n",
       "1     e  劉櫂豪-127903        no        None          []  5.955706  33.086273   \n",
       "\n",
       "   next_offset_s  \n",
       "0          10.44  \n",
       "1          11.64  "
      ]
     },
     "execution_count": 5,
     "metadata": {},
     "output_type": "execute_result"
    }
   ],
   "source": [
    "new_emit_all[:2]"
   ]
  },
  {
   "cell_type": "code",
   "execution_count": 6,
   "id": "f1fc9ce4-723f-4705-b507-dc7dcee5d0bf",
   "metadata": {},
   "outputs": [
    {
     "data": {
      "text/plain": [
       "11716"
      ]
     },
     "execution_count": 6,
     "metadata": {},
     "output_type": "execute_result"
    }
   ],
   "source": [
    "len(set(new_emit_all.index.values))"
   ]
  },
  {
   "cell_type": "code",
   "execution_count": 7,
   "id": "13fd9fea-8558-41bd-8c1b-5f84da29da81",
   "metadata": {},
   "outputs": [
    {
     "data": {
      "text/html": [
       "<div>\n",
       "<style scoped>\n",
       "    .dataframe tbody tr th:only-of-type {\n",
       "        vertical-align: middle;\n",
       "    }\n",
       "\n",
       "    .dataframe tbody tr th {\n",
       "        vertical-align: top;\n",
       "    }\n",
       "\n",
       "    .dataframe thead th {\n",
       "        text-align: right;\n",
       "    }\n",
       "</style>\n",
       "<table border=\"1\" class=\"dataframe\">\n",
       "  <thead>\n",
       "    <tr style=\"text-align: right;\">\n",
       "      <th></th>\n",
       "      <th>file</th>\n",
       "      <th>time_start</th>\n",
       "      <th>time_end</th>\n",
       "      <th>time_midpoint</th>\n",
       "      <th>speaker_gender</th>\n",
       "      <th>context_raw</th>\n",
       "      <th>position</th>\n",
       "      <th>syllable_structure</th>\n",
       "      <th>nasalized_perceived</th>\n",
       "      <th>function_1</th>\n",
       "      <th>function_2</th>\n",
       "      <th>nasality</th>\n",
       "      <th>freq_f1</th>\n",
       "      <th>freq_f2</th>\n",
       "      <th>freq_f3</th>\n",
       "    </tr>\n",
       "  </thead>\n",
       "  <tbody>\n",
       "    <tr>\n",
       "      <th>0</th>\n",
       "      <td>127849</td>\n",
       "      <td>12.42569</td>\n",
       "      <td>13.07296</td>\n",
       "      <td>12.999325</td>\n",
       "      <td>m</td>\n",
       "      <td>h_oN_f</td>\n",
       "      <td>f</td>\n",
       "      <td>cv</td>\n",
       "      <td>1</td>\n",
       "      <td>b</td>\n",
       "      <td>b</td>\n",
       "      <td>2.62</td>\n",
       "      <td>581</td>\n",
       "      <td>1116</td>\n",
       "      <td>2568</td>\n",
       "    </tr>\n",
       "  </tbody>\n",
       "</table>\n",
       "</div>"
      ],
      "text/plain": [
       "     file  time_start  time_end  time_midpoint speaker_gender context_raw  \\\n",
       "0  127849    12.42569  13.07296      12.999325              m      h_oN_f   \n",
       "\n",
       "  position syllable_structure  nasalized_perceived function_1 function_2  \\\n",
       "0        f                 cv                    1          b          b   \n",
       "\n",
       "   nasality  freq_f1  freq_f2  freq_f3  \n",
       "0      2.62      581     1116     2568  "
      ]
     },
     "execution_count": 7,
     "metadata": {},
     "output_type": "execute_result"
    }
   ],
   "source": [
    "ac_data[:1]"
   ]
  },
  {
   "cell_type": "code",
   "execution_count": 8,
   "id": "84668de8-5b81-4d66-9ab3-2fa2df16868c",
   "metadata": {},
   "outputs": [
    {
     "data": {
      "text/plain": [
       "file                      127849\n",
       "time_start              12.42569\n",
       "time_end                13.07296\n",
       "time_midpoint          12.999325\n",
       "speaker_gender                 m\n",
       "context_raw               h_oN_f\n",
       "position                       f\n",
       "syllable_structure            cv\n",
       "nasalized_perceived            1\n",
       "function_1                     b\n",
       "function_2                     b\n",
       "nasality                    2.62\n",
       "freq_f1                      581\n",
       "freq_f2                     1116\n",
       "freq_f3                     2568\n",
       "Name: 0, dtype: object"
      ]
     },
     "execution_count": 8,
     "metadata": {},
     "output_type": "execute_result"
    }
   ],
   "source": [
    "ac_data.iloc[0]"
   ]
  },
  {
   "cell_type": "markdown",
   "id": "4eff4ce6-8000-4b33-97cd-a2399bc8ffd6",
   "metadata": {},
   "source": [
    "## Check file names"
   ]
  },
  {
   "cell_type": "code",
   "execution_count": 9,
   "id": "38b94358-2bb4-4c17-99c4-6c75b3e58158",
   "metadata": {},
   "outputs": [
    {
     "data": {
      "text/plain": [
       "array([127849, 127889, 127903, 127909, 127940, 128068], dtype=int64)"
      ]
     },
     "execution_count": 9,
     "metadata": {},
     "output_type": "execute_result"
    }
   ],
   "source": [
    "ac_data.file.unique()"
   ]
  },
  {
   "cell_type": "code",
   "execution_count": 10,
   "id": "04f42a52-0766-4443-a068-e776a55f5b54",
   "metadata": {},
   "outputs": [
    {
     "data": {
      "text/plain": [
       "array(['劉櫂豪-127903', '陳椒華-127940', '黃國書-127909', '許淑華-127889',\n",
       "       '趙正宇-127849', '陳瑩-128068'], dtype=object)"
      ]
     },
     "execution_count": 10,
     "metadata": {},
     "output_type": "execute_result"
    }
   ],
   "source": [
    "new_emit_all.filename.unique()"
   ]
  },
  {
   "cell_type": "markdown",
   "id": "446d70db-3f47-49f4-afee-32a7f88df7fe",
   "metadata": {},
   "source": [
    "## Align acoustic phones and allosaurus' emit frames"
   ]
  },
  {
   "cell_type": "code",
   "execution_count": 11,
   "id": "765aea33-fcdc-46e3-b921-6baaf67b3fb5",
   "metadata": {},
   "outputs": [
    {
     "data": {
      "application/vnd.jupyter.widget-view+json": {
       "model_id": "a75592d4b1414deebd3f24cadc3df715",
       "version_major": 2,
       "version_minor": 0
      },
      "text/plain": [
       "0it [00:00, ?it/s]"
      ]
     },
     "metadata": {},
     "output_type": "display_data"
    }
   ],
   "source": [
    "ac_aligned = []\n",
    "\n",
    "for ac_x in tqdm(ac_data.itertuples()):            \n",
    "        \n",
    "    ac_fileno = str(ac_x.file)\n",
    "    ac_start = ac_x.time_start\n",
    "    ac_end = ac_x.time_end\n",
    "    ac_mid = ac_x.time_midpoint            \n",
    "    offset_s = new_emit_all.offset_s\n",
    "    next_offset_s = new_emit_all.next_offset_s\n",
    "    \n",
    "    emit_x = new_emit_all.loc[\n",
    "            (new_emit_all.filename.str.endswith(ac_fileno)) & \n",
    "            (((ac_start < offset_s) & (next_offset_s < ac_end)) | \n",
    "             ((offset_s < ac_mid) & (ac_mid < next_offset_s)))\n",
    "    ]    \n",
    "    \n",
    "    if emit_x.shape[0] == 0:\n",
    "        continue\n",
    "    else:\n",
    "        ac_item = {k: v for k, v in ac_x._asdict().items()\n",
    "                   if k not in (\"file\", \"Index\")}\n",
    "        for i in range(emit_x.shape[0]):\n",
    "            emit_entry = emit_x.iloc[i]            \n",
    "            ac_aligned.append({\"emit_id\": emit_entry.name, \"ac_id\": ac_x.Index,                     \n",
    "                        \"has_match\": 'yes',\n",
    "                        **ac_item})"
   ]
  },
  {
   "cell_type": "code",
   "execution_count": 12,
   "id": "ff4dfddf-50c6-4819-936c-2d829b87eb0d",
   "metadata": {},
   "outputs": [
    {
     "data": {
      "text/plain": [
       "863"
      ]
     },
     "execution_count": 12,
     "metadata": {},
     "output_type": "execute_result"
    }
   ],
   "source": [
    "len(ac_aligned)"
   ]
  },
  {
   "cell_type": "code",
   "execution_count": 13,
   "id": "fa062e70-5ea7-47db-b3c9-429363d40664",
   "metadata": {},
   "outputs": [],
   "source": [
    "aligned_ac_data = pd.DataFrame(ac_aligned).set_index(\"emit_id\")\\\n",
    "            .join(new_emit_all.drop([\"has_match\", \"match_ho_id\", \"ho_datalist\"], axis=1), how='inner')\n",
    "aligned_ac_data[\"emit_id\"] = aligned_ac_data.index\n",
    "aligned_ac_data[\"has_midpoint\"] = aligned_ac_data.eval(\"offset_s < time_midpoint < next_offset_s\")\n",
    "aligned_ac_data[\"collapse_func\"] = aligned_ac_data.function_1.apply(lambda x: \"b\" if x=='b' else 'o')\n",
    "_ = aligned_ac_data.reset_index(drop=True)"
   ]
  },
  {
   "cell_type": "code",
   "execution_count": 14,
   "id": "7d094312-a0fb-43c1-9ced-22b35d7130fe",
   "metadata": {},
   "outputs": [
    {
     "name": "stdout",
     "output_type": "stream",
     "text": [
      "Total aligned emit frames:  (532, 27)\n",
      "emit frame containing a midpoint:  194\n"
     ]
    }
   ],
   "source": [
    "aligned_ac_data = aligned_ac_data.drop_duplicates(\"emit_id\")\n",
    "print(\"Total aligned emit frames: \", aligned_ac_data.shape)\n",
    "print(\"emit frame containing a midpoint: \", aligned_ac_data.has_midpoint.sum())"
   ]
  },
  {
   "cell_type": "code",
   "execution_count": 15,
   "id": "1f4e45c2-00e8-42c4-8761-a70682364c70",
   "metadata": {},
   "outputs": [
    {
     "data": {
      "text/plain": [
       "(194,)"
      ]
     },
     "execution_count": 15,
     "metadata": {},
     "output_type": "execute_result"
    }
   ],
   "source": [
    "# We successfully align 194 phones. Some fractions the phones occurred are entirely ignored by allosaurus\n",
    "aligned_ac_data.ac_id.unique().shape"
   ]
  },
  {
   "cell_type": "code",
   "execution_count": 16,
   "id": "da4ec8f9-9489-4ded-8c0e-74f863000359",
   "metadata": {},
   "outputs": [
    {
     "data": {
      "text/plain": [
       "Index(['ac_id', 'has_match', 'time_start', 'time_end', 'time_midpoint',\n",
       "       'speaker_gender', 'context_raw', 'position', 'syllable_structure',\n",
       "       'nasalized_perceived', 'function_1', 'function_2', 'nasality',\n",
       "       'freq_f1', 'freq_f2', 'freq_f3', 'offset_id', 'offset_s', 'bilstm',\n",
       "       'phone', 'filename', 'comp-1', 'comp-2', 'next_offset_s', 'emit_id',\n",
       "       'has_midpoint', 'collapse_func'],\n",
       "      dtype='object')"
      ]
     },
     "execution_count": 16,
     "metadata": {},
     "output_type": "execute_result"
    }
   ],
   "source": [
    "# There are 27 variables\n",
    "aligned_ac_data.columns"
   ]
  },
  {
   "cell_type": "code",
   "execution_count": 17,
   "id": "108551b3-aa6f-4a18-a569-91dd589c162d",
   "metadata": {},
   "outputs": [
    {
     "data": {
      "text/plain": [
       "a      133\n",
       "n       49\n",
       "x       48\n",
       "i       48\n",
       "o       45\n",
       "ŋ       35\n",
       "t       18\n",
       "ɕ       17\n",
       "ʂ       16\n",
       "k       13\n",
       "ə       12\n",
       "e       12\n",
       "m       11\n",
       "j       10\n",
       "t̪       8\n",
       "tʰ       8\n",
       "y        6\n",
       "u        6\n",
       "l        6\n",
       "s        5\n",
       "t̪ʰ      5\n",
       "l̪       4\n",
       "p        3\n",
       "kʰ       3\n",
       "s̪       3\n",
       "ɤ        3\n",
       "w        3\n",
       "f        2\n",
       "Name: phone, dtype: int64"
      ]
     },
     "execution_count": 17,
     "metadata": {},
     "output_type": "execute_result"
    }
   ],
   "source": [
    "aligned_ac_data.phone.value_counts()"
   ]
  },
  {
   "cell_type": "markdown",
   "id": "0cde63b5-21cf-4f07-94f9-41f495f9d8e8",
   "metadata": {},
   "source": [
    "## Output aligned data"
   ]
  },
  {
   "cell_type": "markdown",
   "id": "ca569f8e-d00f-4469-b753-ecaae8558dc7",
   "metadata": {},
   "source": [
    "```\n",
    "./data/aligned_ac_data.pkl\t3324ae\t\n",
    "./data/aligned_ac_data.csv\t106e64\t\n",
    "```"
   ]
  },
  {
   "cell_type": "code",
   "execution_count": 18,
   "id": "d8f767c1-313f-4beb-82de-098aceee56f9",
   "metadata": {},
   "outputs": [
    {
     "name": "stdout",
     "output_type": "stream",
     "text": [
      "./data/aligned_ac_data.pkl\t3324ae\t\n",
      "./data/aligned_ac_data.csv\t106e64\t\n"
     ]
    }
   ],
   "source": [
    "aligned_ac_data.drop(\"bilstm\", axis=1).to_csv(\"./data/aligned_ac_data.csv\")\n",
    "aligned_ac_data.to_pickle(\"./data/aligned_ac_data.pkl\")\n",
    "file_hash(\"./data/aligned_ac_data.pkl\")\n",
    "file_hash(\"./data/aligned_ac_data.csv\")"
   ]
  },
  {
   "cell_type": "code",
   "execution_count": null,
   "id": "f35547c4-02c6-4de3-a877-18afc659f3bd",
   "metadata": {},
   "outputs": [],
   "source": []
  }
 ],
 "metadata": {
  "kernelspec": {
   "display_name": "Python 3 (ipykernel)",
   "language": "python",
   "name": "python3"
  },
  "language_info": {
   "codemirror_mode": {
    "name": "ipython",
    "version": 3
   },
   "file_extension": ".py",
   "mimetype": "text/x-python",
   "name": "python",
   "nbconvert_exporter": "python",
   "pygments_lexer": "ipython3",
   "version": "3.10.2"
  }
 },
 "nbformat": 4,
 "nbformat_minor": 5
}
