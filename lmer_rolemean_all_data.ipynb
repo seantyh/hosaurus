{
 "cells": [
  {
   "cell_type": "code",
   "execution_count": 1,
   "id": "83a7c501-5b51-4265-9454-563a8541a3d5",
   "metadata": {},
   "outputs": [
    {
     "name": "stderr",
     "output_type": "stream",
     "text": [
      "Loading required package: lme4\n",
      "\n",
      "Loading required package: Matrix\n",
      "\n",
      "Loading required package: lmerTest\n",
      "\n",
      "Loading required package: MASS\n",
      "\n",
      "Loading required package: ggplot2\n",
      "\n",
      "Loading required package: dplyr\n",
      "\n"
     ]
    }
   ],
   "source": [
    "require(lme4, warn.conflicts=F)\n",
    "require(lmerTest, warn.conflicts=F)\n",
    "require(MASS, warn.conflicts=F)\n",
    "require(ggplot2, warn.conflicts=F)\n",
    "require(dplyr, warn.conflicts=F)"
   ]
  },
  {
   "cell_type": "code",
   "execution_count": 7,
   "id": "bd1a4d88-8fc5-4eff-9d9f-dc859fbfd7c1",
   "metadata": {},
   "outputs": [],
   "source": [
    "data = read.csv(\"data/rolemean_acoustic.csv\")"
   ]
  },
  {
   "cell_type": "code",
   "execution_count": 8,
   "id": "f0e65f1d-5137-4584-9a41-8d7d8dec9568",
   "metadata": {},
   "outputs": [
    {
     "data": {
      "text/html": [
       "<style>\n",
       ".list-inline {list-style: none; margin:0; padding: 0}\n",
       ".list-inline>li {display: inline-block}\n",
       ".list-inline>li:not(:last-child)::after {content: \"\\00b7\"; padding: 0 .5ex}\n",
       "</style>\n",
       "<ol class=list-inline><li>'transcription'</li><li>'role'</li><li>'meaning'</li><li>'speaker'</li><li>'t_start'</li><li>'t_end'</li><li>'freq_f1'</li><li>'freq_f2'</li><li>'freq_f3'</li><li>'a1p0'</li><li>'point_time'</li><li>'point_pct'</li><li>'filename'</li></ol>\n"
      ],
      "text/latex": [
       "\\begin{enumerate*}\n",
       "\\item 'transcription'\n",
       "\\item 'role'\n",
       "\\item 'meaning'\n",
       "\\item 'speaker'\n",
       "\\item 't\\_start'\n",
       "\\item 't\\_end'\n",
       "\\item 'freq\\_f1'\n",
       "\\item 'freq\\_f2'\n",
       "\\item 'freq\\_f3'\n",
       "\\item 'a1p0'\n",
       "\\item 'point\\_time'\n",
       "\\item 'point\\_pct'\n",
       "\\item 'filename'\n",
       "\\end{enumerate*}\n"
      ],
      "text/markdown": [
       "1. 'transcription'\n",
       "2. 'role'\n",
       "3. 'meaning'\n",
       "4. 'speaker'\n",
       "5. 't_start'\n",
       "6. 't_end'\n",
       "7. 'freq_f1'\n",
       "8. 'freq_f2'\n",
       "9. 'freq_f3'\n",
       "10. 'a1p0'\n",
       "11. 'point_time'\n",
       "12. 'point_pct'\n",
       "13. 'filename'\n",
       "\n",
       "\n"
      ],
      "text/plain": [
       " [1] \"transcription\" \"role\"          \"meaning\"       \"speaker\"      \n",
       " [5] \"t_start\"       \"t_end\"         \"freq_f1\"       \"freq_f2\"      \n",
       " [9] \"freq_f3\"       \"a1p0\"          \"point_time\"    \"point_pct\"    \n",
       "[13] \"filename\"     "
      ]
     },
     "metadata": {},
     "output_type": "display_data"
    }
   ],
   "source": [
    "names(data)"
   ]
  },
  {
   "cell_type": "code",
   "execution_count": 10,
   "id": "b320ca8d-acae-4a09-b12c-4e230b8f8696",
   "metadata": {},
   "outputs": [],
   "source": [
    "data$freq_f1 = data$freq_f1 + 1\n",
    "data$filename = factor(data$filename)\n",
    "data = data[data$speaker=='A',]\n",
    "\n",
    "data$transcription = factor(data$transcription)\n",
    "names(data)[names(data)==\"a1p0\"] = \"nasality\""
   ]
  },
  {
   "cell_type": "code",
   "execution_count": 11,
   "id": "ffefd6a0-4119-4318-8b86-8437d37fb7e4",
   "metadata": {},
   "outputs": [
    {
     "data": {
      "text/plain": [
       "\n",
       "       CFT disfluency     filler      other   response \n",
       "       125         20        555         10          5 "
      ]
     },
     "metadata": {},
     "output_type": "display_data"
    }
   ],
   "source": [
    "table(data$role)"
   ]
  },
  {
   "cell_type": "code",
   "execution_count": 12,
   "id": "2cf69e3d-5d42-4e86-90f6-3aac9c39dca0",
   "metadata": {},
   "outputs": [
    {
     "data": {
      "text/plain": [
       "\n",
       "   CFT filler  other \n",
       "   125    555     35 "
      ]
     },
     "metadata": {},
     "output_type": "display_data"
    }
   ],
   "source": [
    "data$role_rc = recode(data$role, disfluency=\"other\", response=\"other\")\n",
    "table(data$role_rc)"
   ]
  },
  {
   "cell_type": "code",
   "execution_count": 13,
   "id": "e3cb0430-4d32-4716-899c-c3dfa5c0a6a0",
   "metadata": {},
   "outputs": [],
   "source": [
    "data$meaning_rc = data$meaning\n",
    "data$meaning_rc[grep(\",\", data$meaning)] = \"complex\"\n",
    "data$meaning_rc = relevel(factor(data$meaning_rc), ref='neutral')"
   ]
  },
  {
   "cell_type": "code",
   "execution_count": 14,
   "id": "ed401986-f9da-40da-950c-b6723d95d3d5",
   "metadata": {},
   "outputs": [
    {
     "data": {
      "text/plain": [
       "\n",
       "                authority         authority,concern authority,dissatisfaction \n",
       "                       75                         5                        10 \n",
       "                  control        control,old_ground           control,thought \n",
       "                       75                         5                         5 \n",
       "          dissatisfaction                   neutral                  new_info \n",
       "                       15                       135                        10 \n",
       "               old_ground                   thought \n",
       "                       70                       310 "
      ]
     },
     "metadata": {},
     "output_type": "display_data"
    }
   ],
   "source": [
    "table(data$meaning)"
   ]
  },
  {
   "cell_type": "code",
   "execution_count": 15,
   "id": "50ac0ae6-c04b-44d9-b79d-e64379176d19",
   "metadata": {},
   "outputs": [
    {
     "data": {
      "text/plain": [
       "\n",
       "        neutral       authority         complex         control dissatisfaction \n",
       "            135              75              25              75              15 \n",
       "       new_info      old_ground         thought \n",
       "             10              70             310 "
      ]
     },
     "metadata": {},
     "output_type": "display_data"
    }
   ],
   "source": [
    "table(data$meaning_rc)"
   ]
  },
  {
   "cell_type": "code",
   "execution_count": 16,
   "id": "00f9250f-4605-4890-9d8b-a739c2936f3b",
   "metadata": {},
   "outputs": [
    {
     "data": {
      "text/plain": [
       "\n",
       "   eh    ha    he    ho   huh     i la-ho     m    no    oh  sisi    ͡ts    uh \n",
       "   15     5    10   280     5     5     5     5     5    35     5     5   310 \n",
       "   um   w,w    wa \n",
       "   15     5     5 "
      ]
     },
     "metadata": {},
     "output_type": "display_data"
    }
   ],
   "source": [
    "table(data$transcription)"
   ]
  },
  {
   "cell_type": "code",
   "execution_count": 17,
   "id": "50d0b1f2-0104-4029-90b1-ea3539db2557",
   "metadata": {},
   "outputs": [],
   "source": [
    "data$point_pct = relevel(factor(data$point_pct), ref='50')\n",
    "data$role_rc = relevel(factor(data$role_rc), ref='other')"
   ]
  },
  {
   "cell_type": "code",
   "execution_count": 18,
   "id": "b56eaa39-9846-4440-a201-d5e0b891b025",
   "metadata": {},
   "outputs": [
    {
     "data": {
      "text/html": [
       "<table class=\"dataframe\">\n",
       "<caption>A data.frame: 6 × 15</caption>\n",
       "<thead>\n",
       "\t<tr><th></th><th scope=col>transcription</th><th scope=col>role</th><th scope=col>meaning</th><th scope=col>speaker</th><th scope=col>t_start</th><th scope=col>t_end</th><th scope=col>freq_f1</th><th scope=col>freq_f2</th><th scope=col>freq_f3</th><th scope=col>nasality</th><th scope=col>point_time</th><th scope=col>point_pct</th><th scope=col>filename</th><th scope=col>role_rc</th><th scope=col>meaning_rc</th></tr>\n",
       "\t<tr><th></th><th scope=col>&lt;fct&gt;</th><th scope=col>&lt;chr&gt;</th><th scope=col>&lt;chr&gt;</th><th scope=col>&lt;chr&gt;</th><th scope=col>&lt;dbl&gt;</th><th scope=col>&lt;dbl&gt;</th><th scope=col>&lt;dbl&gt;</th><th scope=col>&lt;int&gt;</th><th scope=col>&lt;int&gt;</th><th scope=col>&lt;dbl&gt;</th><th scope=col>&lt;dbl&gt;</th><th scope=col>&lt;fct&gt;</th><th scope=col>&lt;fct&gt;</th><th scope=col>&lt;fct&gt;</th><th scope=col>&lt;fct&gt;</th></tr>\n",
       "</thead>\n",
       "<tbody>\n",
       "\t<tr><th scope=row>1</th><td>he</td><td>filler</td><td>neutral</td><td>A</td><td>7.761102</td><td> 8.006046</td><td>820</td><td>1923</td><td>2689</td><td>-8.36</td><td>7.785597</td><td>10</td><td>陳椒華-127940</td><td>filler</td><td>neutral</td></tr>\n",
       "\t<tr><th scope=row>2</th><td>he</td><td>filler</td><td>neutral</td><td>A</td><td>7.761102</td><td> 8.006046</td><td>820</td><td>2032</td><td>2914</td><td>-2.85</td><td>7.834585</td><td>30</td><td>陳椒華-127940</td><td>filler</td><td>neutral</td></tr>\n",
       "\t<tr><th scope=row>3</th><td>he</td><td>filler</td><td>neutral</td><td>A</td><td>7.761102</td><td> 8.006046</td><td>756</td><td>2045</td><td>3070</td><td>-3.75</td><td>7.883574</td><td>50</td><td>陳椒華-127940</td><td>filler</td><td>neutral</td></tr>\n",
       "\t<tr><th scope=row>4</th><td>he</td><td>filler</td><td>neutral</td><td>A</td><td>7.761102</td><td> 8.006046</td><td>368</td><td>1960</td><td>3185</td><td> 5.78</td><td>7.932563</td><td>70</td><td>陳椒華-127940</td><td>filler</td><td>neutral</td></tr>\n",
       "\t<tr><th scope=row>5</th><td>he</td><td>filler</td><td>neutral</td><td>A</td><td>7.761102</td><td> 8.006046</td><td>217</td><td>1966</td><td>3736</td><td> 0.00</td><td>7.981551</td><td>90</td><td>陳椒華-127940</td><td>filler</td><td>neutral</td></tr>\n",
       "\t<tr><th scope=row>11</th><td>uh</td><td>filler</td><td>thought</td><td>A</td><td>9.568283</td><td>10.063530</td><td>626</td><td>1614</td><td>2995</td><td>-5.31</td><td>9.617808</td><td>10</td><td>陳椒華-127940</td><td>filler</td><td>thought</td></tr>\n",
       "</tbody>\n",
       "</table>\n"
      ],
      "text/latex": [
       "A data.frame: 6 × 15\n",
       "\\begin{tabular}{r|lllllllllllllll}\n",
       "  & transcription & role & meaning & speaker & t\\_start & t\\_end & freq\\_f1 & freq\\_f2 & freq\\_f3 & nasality & point\\_time & point\\_pct & filename & role\\_rc & meaning\\_rc\\\\\n",
       "  & <fct> & <chr> & <chr> & <chr> & <dbl> & <dbl> & <dbl> & <int> & <int> & <dbl> & <dbl> & <fct> & <fct> & <fct> & <fct>\\\\\n",
       "\\hline\n",
       "\t1 & he & filler & neutral & A & 7.761102 &  8.006046 & 820 & 1923 & 2689 & -8.36 & 7.785597 & 10 & 陳椒華-127940 & filler & neutral\\\\\n",
       "\t2 & he & filler & neutral & A & 7.761102 &  8.006046 & 820 & 2032 & 2914 & -2.85 & 7.834585 & 30 & 陳椒華-127940 & filler & neutral\\\\\n",
       "\t3 & he & filler & neutral & A & 7.761102 &  8.006046 & 756 & 2045 & 3070 & -3.75 & 7.883574 & 50 & 陳椒華-127940 & filler & neutral\\\\\n",
       "\t4 & he & filler & neutral & A & 7.761102 &  8.006046 & 368 & 1960 & 3185 &  5.78 & 7.932563 & 70 & 陳椒華-127940 & filler & neutral\\\\\n",
       "\t5 & he & filler & neutral & A & 7.761102 &  8.006046 & 217 & 1966 & 3736 &  0.00 & 7.981551 & 90 & 陳椒華-127940 & filler & neutral\\\\\n",
       "\t11 & uh & filler & thought & A & 9.568283 & 10.063530 & 626 & 1614 & 2995 & -5.31 & 9.617808 & 10 & 陳椒華-127940 & filler & thought\\\\\n",
       "\\end{tabular}\n"
      ],
      "text/markdown": [
       "\n",
       "A data.frame: 6 × 15\n",
       "\n",
       "| <!--/--> | transcription &lt;fct&gt; | role &lt;chr&gt; | meaning &lt;chr&gt; | speaker &lt;chr&gt; | t_start &lt;dbl&gt; | t_end &lt;dbl&gt; | freq_f1 &lt;dbl&gt; | freq_f2 &lt;int&gt; | freq_f3 &lt;int&gt; | nasality &lt;dbl&gt; | point_time &lt;dbl&gt; | point_pct &lt;fct&gt; | filename &lt;fct&gt; | role_rc &lt;fct&gt; | meaning_rc &lt;fct&gt; |\n",
       "|---|---|---|---|---|---|---|---|---|---|---|---|---|---|---|---|\n",
       "| 1 | he | filler | neutral | A | 7.761102 |  8.006046 | 820 | 1923 | 2689 | -8.36 | 7.785597 | 10 | 陳椒華-127940 | filler | neutral |\n",
       "| 2 | he | filler | neutral | A | 7.761102 |  8.006046 | 820 | 2032 | 2914 | -2.85 | 7.834585 | 30 | 陳椒華-127940 | filler | neutral |\n",
       "| 3 | he | filler | neutral | A | 7.761102 |  8.006046 | 756 | 2045 | 3070 | -3.75 | 7.883574 | 50 | 陳椒華-127940 | filler | neutral |\n",
       "| 4 | he | filler | neutral | A | 7.761102 |  8.006046 | 368 | 1960 | 3185 |  5.78 | 7.932563 | 70 | 陳椒華-127940 | filler | neutral |\n",
       "| 5 | he | filler | neutral | A | 7.761102 |  8.006046 | 217 | 1966 | 3736 |  0.00 | 7.981551 | 90 | 陳椒華-127940 | filler | neutral |\n",
       "| 11 | uh | filler | thought | A | 9.568283 | 10.063530 | 626 | 1614 | 2995 | -5.31 | 9.617808 | 10 | 陳椒華-127940 | filler | thought |\n",
       "\n"
      ],
      "text/plain": [
       "   transcription role   meaning speaker t_start  t_end     freq_f1 freq_f2\n",
       "1  he            filler neutral A       7.761102  8.006046 820     1923   \n",
       "2  he            filler neutral A       7.761102  8.006046 820     2032   \n",
       "3  he            filler neutral A       7.761102  8.006046 756     2045   \n",
       "4  he            filler neutral A       7.761102  8.006046 368     1960   \n",
       "5  he            filler neutral A       7.761102  8.006046 217     1966   \n",
       "11 uh            filler thought A       9.568283 10.063530 626     1614   \n",
       "   freq_f3 nasality point_time point_pct filename      role_rc meaning_rc\n",
       "1  2689    -8.36    7.785597   10        陳椒華-127940 filler  neutral   \n",
       "2  2914    -2.85    7.834585   30        陳椒華-127940 filler  neutral   \n",
       "3  3070    -3.75    7.883574   50        陳椒華-127940 filler  neutral   \n",
       "4  3185     5.78    7.932563   70        陳椒華-127940 filler  neutral   \n",
       "5  3736     0.00    7.981551   90        陳椒華-127940 filler  neutral   \n",
       "11 2995    -5.31    9.617808   10        陳椒華-127940 filler  thought   "
      ]
     },
     "metadata": {},
     "output_type": "display_data"
    }
   ],
   "source": [
    "head(data)"
   ]
  },
  {
   "cell_type": "code",
   "execution_count": 22,
   "id": "d5c8ed06-ec84-4c8b-82dc-6d8e0d9b7b36",
   "metadata": {},
   "outputs": [
    {
     "name": "stdout",
     "output_type": "stream",
     "text": [
      "[1] 1\n"
     ]
    }
   ],
   "source": [
    "f1_bc = boxcox(lm(data$freq_f1~1), plotit=F)\n",
    "print(f1_bc$x[which.max(f1_bc$y)])\n",
    "data$freq_f1_cox = data$freq_f1 ^ 1"
   ]
  },
  {
   "cell_type": "code",
   "execution_count": 23,
   "id": "ec88d0f2-f964-477d-815b-3a842213e328",
   "metadata": {},
   "outputs": [
    {
     "name": "stdout",
     "output_type": "stream",
     "text": [
      "[1] -0.5\n"
     ]
    }
   ],
   "source": [
    "f2_bc = boxcox(lm(data$freq_f2~1), plotit=F)\n",
    "print(f2_bc$x[which.max(f2_bc$y)])\n",
    "data$freq_f2_cox = data$freq_f2 ^ -0.5"
   ]
  },
  {
   "cell_type": "code",
   "execution_count": 24,
   "id": "dfed514d-2a60-46a6-adb5-1f8f2dda9306",
   "metadata": {},
   "outputs": [
    {
     "name": "stdout",
     "output_type": "stream",
     "text": [
      "[1] 1.5\n"
     ]
    }
   ],
   "source": [
    "f3_bc = boxcox(lm(data$freq_f3~1), plotit=F)\n",
    "print(f3_bc$x[which.max(f3_bc$y)])\n",
    "data$freq_f3_cox = data$freq_f3 ^ 1.5"
   ]
  },
  {
   "cell_type": "code",
   "execution_count": 25,
   "id": "06a68e9b-ce7e-4a4c-beac-5b4261f614e2",
   "metadata": {},
   "outputs": [
    {
     "name": "stdout",
     "output_type": "stream",
     "text": [
      "[1] 1\n"
     ]
    }
   ],
   "source": [
    "nas_tr = data$nasality - min(data$nasality)+0.01\n",
    "nas_bc = boxcox(lm(nas_tr~1), plotit=F)\n",
    "print(nas_bc$x[which.max(nas_bc$y)])\n",
    "data$nasality_cox = nas_tr ^ 1.2"
   ]
  },
  {
   "cell_type": "code",
   "execution_count": 26,
   "id": "5d740c4e-3c69-4dd7-88c1-cdd5c92dfb62",
   "metadata": {},
   "outputs": [
    {
     "data": {
      "image/png": "[encoded data removed]",
      "text/plain": [
       "Plot with title \"Histogram of data$nasality_cox\""
      ]
     },
     "metadata": {
      "image/png": {
       "height": 240,
       "width": 720
      }
     },
     "output_type": "display_data"
    }
   ],
   "source": [
    "options(repr.plot.width=12, repr.plot.height=4)\n",
    "par(mfrow=c(1,4))\n",
    "hist(data$freq_f1_cox)\n",
    "hist(data$freq_f2_cox)\n",
    "hist(data$freq_f3_cox)\n",
    "hist(data$nasality_cox)"
   ]
  },
  {
   "cell_type": "code",
   "execution_count": 40,
   "id": "96481c62-7285-424a-a0e7-9d25267bb327",
   "metadata": {},
   "outputs": [
    {
     "data": {
      "text/plain": [
       "        transcription\n",
       "role_rc   eh  ha  he  ho huh   i la-ho   m  no  oh sisi  ͡ts  uh  um w,w  wa\n",
       "  other    0   0   5   0   5   5     0   0   5   0    5   5   0   0   5   0\n",
       "  CFT      5   0   0  90   0   0     5   0   0  25    0   0   0   0   0   0\n",
       "  filler  10   5   5 190   0   0     0   5   0  10    0   0 310  15   0   5"
      ]
     },
     "metadata": {},
     "output_type": "display_data"
    }
   ],
   "source": [
    "xtabs(~role_rc+transcription, data)"
   ]
  },
  {
   "cell_type": "code",
   "execution_count": 41,
   "id": "f06d6ba3-bf85-4bff-8a5e-1dd976bbba2a",
   "metadata": {},
   "outputs": [
    {
     "data": {
      "text/plain": [
       "                 transcription\n",
       "meaning_rc         eh  ha  he  ho huh   i la-ho   m  no  oh sisi  ͡ts  uh  um\n",
       "  neutral           0   0  10  80   5   0     0   5   0  10    5   0  20   0\n",
       "  authority        10   0   0  60   0   0     5   0   0   0    0   0   0   0\n",
       "  complex           0   0   0  15   0   0     0   0   0  10    0   0   0   0\n",
       "  control           0   0   0  65   0   0     0   0   0  10    0   0   0   0\n",
       "  dissatisfaction   5   5   0   5   0   0     0   0   0   0    0   0   0   0\n",
       "  new_info          0   0   0   5   0   0     0   0   0   0    0   0   0   0\n",
       "  old_ground        0   0   0  45   0   5     0   0   5   5    0   5   0   0\n",
       "  thought           0   0   0   5   0   0     0   0   0   0    0   0 290  15\n",
       "                 transcription\n",
       "meaning_rc        w,w  wa\n",
       "  neutral           0   0\n",
       "  authority         0   0\n",
       "  complex           0   0\n",
       "  control           0   0\n",
       "  dissatisfaction   0   0\n",
       "  new_info          0   5\n",
       "  old_ground        5   0\n",
       "  thought           0   0"
      ]
     },
     "metadata": {},
     "output_type": "display_data"
    }
   ],
   "source": [
    "xtabs(~meaning_rc+transcription, data)"
   ]
  },
  {
   "cell_type": "markdown",
   "id": "34c0ca8c-fc4a-4638-9ca2-66da247d7e6a",
   "metadata": {},
   "source": [
    "## Mixed Models"
   ]
  },
  {
   "cell_type": "code",
   "execution_count": 35,
   "id": "b39a8abe-5d1d-4f2e-b08b-dca5f74cedbc",
   "metadata": {},
   "outputs": [
    {
     "name": "stderr",
     "output_type": "stream",
     "text": [
      "\n",
      "Correlation matrix not shown by default, as p = 25 > 12.\n",
      "Use print(obj, correlation=TRUE)  or\n",
      "    vcov(obj)        if you need it\n",
      "\n",
      "\n"
     ]
    },
    {
     "data": {
      "text/plain": [
       "Linear mixed model fit by REML. t-tests use Satterthwaite's method [\n",
       "lmerModLmerTest]\n",
       "Formula: freq_f1_cox ~ role_rc + meaning_rc + transcription + (1 | filename) +  \n",
       "    (1 | point_pct)\n",
       "   Data: data\n",
       "\n",
       "REML criterion at convergence: 9273.4\n",
       "\n",
       "Scaled residuals: \n",
       "    Min      1Q  Median      3Q     Max \n",
       "-3.2959 -0.4807 -0.0086  0.5219  6.8463 \n",
       "\n",
       "Random effects:\n",
       " Groups    Name        Variance Std.Dev.\n",
       " point_pct (Intercept)  2524     50.24  \n",
       " filename  (Intercept)  6407     80.04  \n",
       " Residual              35624    188.74  \n",
       "Number of obs: 715, groups:  point_pct, 5; filename, 4\n",
       "\n",
       "Fixed effects:\n",
       "                          Estimate Std. Error       df t value Pr(>|t|)    \n",
       "(Intercept)                546.995    143.604  270.457   3.809 0.000173 ***\n",
       "role_rcCFT                  35.678    122.753  683.549   0.291 0.771409    \n",
       "role_rcfiller                2.673    120.804  683.832   0.022 0.982354    \n",
       "meaning_rcauthority        -54.192     31.517  684.767  -1.719 0.085977 .  \n",
       "meaning_rccomplex          -58.167     45.815  686.000  -1.270 0.204649    \n",
       "meaning_rccontrol          -54.682     29.564  683.957  -1.850 0.064801 .  \n",
       "meaning_rcdissatisfaction  -12.465     72.713  684.984  -0.171 0.863934    \n",
       "meaning_rcnew_info         -98.375     91.027  685.926  -1.081 0.280198    \n",
       "meaning_rcold_ground       -62.674     35.008  684.380  -1.790 0.073850 .  \n",
       "meaning_rcthought           39.291     39.425  684.227   0.997 0.319322    \n",
       "transcriptionha            202.850    109.579  683.458   1.851 0.064575 .  \n",
       "transcriptionhe            103.747    106.704  686.000   0.972 0.331248    \n",
       "transcriptionho            214.491     59.678  684.712   3.594 0.000349 ***\n",
       "transcriptionhuh           117.394    162.133  685.748   0.724 0.469277    \n",
       "transcriptioni             -10.579    162.881  685.924  -0.065 0.948234    \n",
       "transcriptionla-ho         346.062    105.565  685.998   3.278 0.001097 ** \n",
       "transcriptionm            -299.079    108.118  685.534  -2.766 0.005824 ** \n",
       "transcriptionno            -65.932    164.119  686.000  -0.402 0.688004    \n",
       "transcriptionoh            220.945     76.458  672.194   2.890 0.003979 ** \n",
       "transcriptionsisi          606.858    159.225  683.557   3.811 0.000151 ***\n",
       "transcription͡ts            631.621    162.881  685.924   3.878 0.000116 ***\n",
       "transcriptionuh             46.663     73.580  684.104   0.634 0.526176    \n",
       "transcriptionum           -106.216     89.344  685.739  -1.189 0.234912    \n",
       "transcriptionw,w           110.421    162.881  685.924   0.678 0.498048    \n",
       "transcriptionwa            112.160    134.839  684.611   0.832 0.405810    \n",
       "---\n",
       "Signif. codes:  0 '***' 0.001 '**' 0.01 '*' 0.05 '.' 0.1 ' ' 1"
      ]
     },
     "metadata": {},
     "output_type": "display_data"
    }
   ],
   "source": [
    "m_f1t = lmer(freq_f1_cox~role_rc+meaning_rc+transcription+(1|filename)+(1|point_pct), data=data)\n",
    "summary(m_f1t, corr=F)"
   ]
  },
  {
   "cell_type": "code",
   "execution_count": 31,
   "id": "5c551c49-6e7e-4c04-b879-ea18d426f977",
   "metadata": {},
   "outputs": [
    {
     "data": {
      "text/plain": [
       "Linear mixed model fit by REML. t-tests use Satterthwaite's method [\n",
       "lmerModLmerTest]\n",
       "Formula: freq_f1_cox ~ role_rc + meaning_rc + (1 | filename) + (1 | point_pct)\n",
       "   Data: data\n",
       "\n",
       "REML criterion at convergence: 9563.8\n",
       "\n",
       "Scaled residuals: \n",
       "    Min      1Q  Median      3Q     Max \n",
       "-3.2059 -0.4787  0.0110  0.5213  6.2557 \n",
       "\n",
       "Random effects:\n",
       " Groups    Name        Variance Std.Dev.\n",
       " point_pct (Intercept)  2478     49.78  \n",
       " filename  (Intercept)  3652     60.43  \n",
       " Residual              42119    205.23  \n",
       "Number of obs: 715, groups:  point_pct, 5; filename, 4\n",
       "\n",
       "Fixed effects:\n",
       "                          Estimate Std. Error       df t value Pr(>|t|)    \n",
       "(Intercept)                763.523     54.909   21.968  13.905 2.29e-12 ***\n",
       "role_rcCFT                  22.434     41.887  700.129   0.536  0.59241    \n",
       "role_rcfiller              -57.713     41.097  700.955  -1.404  0.16067    \n",
       "meaning_rcauthority        -29.265     29.981  698.930  -0.976  0.32934    \n",
       "meaning_rccomplex            3.114     46.303  700.474   0.067  0.94640    \n",
       "meaning_rccontrol           -3.665     30.013  699.043  -0.122  0.90285    \n",
       "meaning_rcdissatisfaction  -79.445     59.777  689.683  -1.329  0.18428    \n",
       "meaning_rcnew_info        -109.701     68.470  700.744  -1.602  0.10957    \n",
       "meaning_rcold_ground       -54.670     32.080  700.393  -1.704  0.08879 .  \n",
       "meaning_rcthought          -76.904     23.831  694.220  -3.227  0.00131 ** \n",
       "---\n",
       "Signif. codes:  0 '***' 0.001 '**' 0.01 '*' 0.05 '.' 0.1 ' ' 1"
      ]
     },
     "metadata": {},
     "output_type": "display_data"
    }
   ],
   "source": [
    "m_f1t = lmer(freq_f1_cox~role_rc+meaning_rc+transcription+(1|filename)+(1|point_pct), data=data)\n",
    "summary(m_f1, corr=F)"
   ]
  },
  {
   "cell_type": "code",
   "execution_count": 34,
   "id": "ad2fdc5f-2b0e-49d3-a339-80a789c98621",
   "metadata": {},
   "outputs": [
    {
     "name": "stderr",
     "output_type": "stream",
     "text": [
      "\n",
      "Correlation matrix not shown by default, as p = 25 > 12.\n",
      "Use print(obj, correlation=TRUE)  or\n",
      "    vcov(obj)        if you need it\n",
      "\n",
      "\n"
     ]
    },
    {
     "data": {
      "text/plain": [
       "Linear mixed model fit by REML. t-tests use Satterthwaite's method [\n",
       "lmerModLmerTest]\n",
       "Formula: freq_f2_cox ~ role_rc + meaning_rc + transcription + (1 | filename) +  \n",
       "    (1 | point_pct)\n",
       "   Data: data\n",
       "\n",
       "REML criterion at convergence: -6180.4\n",
       "\n",
       "Scaled residuals: \n",
       "    Min      1Q  Median      3Q     Max \n",
       "-2.9997 -0.5752  0.0092  0.5929  4.6237 \n",
       "\n",
       "Random effects:\n",
       " Groups    Name        Variance  Std.Dev. \n",
       " point_pct (Intercept) 8.988e-07 0.0009481\n",
       " filename  (Intercept) 6.683e-07 0.0008175\n",
       " Residual              6.675e-06 0.0025835\n",
       "Number of obs: 715, groups:  point_pct, 5; filename, 4\n",
       "\n",
       "Fixed effects:\n",
       "                            Estimate Std. Error         df t value Pr(>|t|)    \n",
       "(Intercept)                2.167e-02  1.952e-03  3.743e+02  11.102  < 2e-16 ***\n",
       "role_rcCFT                 6.281e-04  1.680e-03  6.840e+02   0.374 0.708596    \n",
       "role_rcfiller              1.219e-03  1.653e-03  6.844e+02   0.737 0.461165    \n",
       "meaning_rcauthority        7.120e-04  4.311e-04  6.856e+02   1.651 0.099098 .  \n",
       "meaning_rccomplex         -1.577e-03  6.261e-04  6.847e+02  -2.518 0.012013 *  \n",
       "meaning_rccontrol         -7.900e-04  4.046e-04  6.845e+02  -1.953 0.051253 .  \n",
       "meaning_rcdissatisfaction  1.582e-03  9.946e-04  6.857e+02   1.591 0.112166    \n",
       "meaning_rcnew_info         7.193e-05  1.244e-03  6.854e+02   0.058 0.953917    \n",
       "meaning_rcold_ground      -2.632e-04  4.779e-04  6.753e+02  -0.551 0.582065    \n",
       "meaning_rcthought         -2.702e-05  5.395e-04  6.849e+02  -0.050 0.960068    \n",
       "transcriptionha            2.380e-03  1.500e-03  6.838e+02   1.587 0.113049    \n",
       "transcriptionhe           -2.787e-04  1.458e-03  6.847e+02  -0.191 0.848501    \n",
       "transcriptionho            4.792e-03  8.148e-04  6.770e+02   5.881 6.39e-09 ***\n",
       "transcriptionhuh           2.659e-03  2.217e-03  6.859e+02   1.199 0.230805    \n",
       "transcriptioni            -5.320e-04  2.227e-03  6.855e+02  -0.239 0.811218    \n",
       "transcriptionla-ho         2.444e-03  1.443e-03  6.845e+02   1.694 0.090648 .  \n",
       "transcriptionm             2.806e-03  1.477e-03  6.807e+02   1.900 0.057845 .  \n",
       "transcriptionno            7.691e-03  2.243e-03  6.847e+02   3.429 0.000642 ***\n",
       "transcriptionoh            6.406e-03  1.041e-03  6.348e+02   6.152 1.36e-09 ***\n",
       "transcriptionsisi          8.020e-04  2.179e-03  6.840e+02   0.368 0.712948    \n",
       "transcription͡ts           -2.973e-04  2.227e-03  6.855e+02  -0.134 0.893830    \n",
       "transcriptionuh            3.095e-03  1.004e-03  6.744e+02   3.082 0.002143 ** \n",
       "transcriptionum            3.090e-03  1.220e-03  6.819e+02   2.532 0.011574 *  \n",
       "transcriptionw,w           1.962e-03  2.227e-03  6.855e+02   0.881 0.378561    \n",
       "transcriptionwa            3.494e-03  1.845e-03  6.854e+02   1.894 0.058643 .  \n",
       "---\n",
       "Signif. codes:  0 '***' 0.001 '**' 0.01 '*' 0.05 '.' 0.1 ' ' 1"
      ]
     },
     "metadata": {},
     "output_type": "display_data"
    }
   ],
   "source": [
    "m_f2t = lmer(freq_f2_cox~role_rc+meaning_rc+transcription+(1|filename)+(1|point_pct), data=data)\n",
    "summary(m_f2t, corr=F)"
   ]
  },
  {
   "cell_type": "code",
   "execution_count": 32,
   "id": "18e7a905-b9c5-42fe-8c04-ee6fe57316cd",
   "metadata": {},
   "outputs": [
    {
     "data": {
      "text/plain": [
       "Linear mixed model fit by REML. t-tests use Satterthwaite's method [\n",
       "lmerModLmerTest]\n",
       "Formula: freq_f2_cox ~ role_rc + meaning_rc + (1 | filename) + (1 | point_pct)\n",
       "   Data: data\n",
       "\n",
       "REML criterion at convergence: -6260.2\n",
       "\n",
       "Scaled residuals: \n",
       "    Min      1Q  Median      3Q     Max \n",
       "-2.8636 -0.6382  0.0499  0.6260  4.3175 \n",
       "\n",
       "Random effects:\n",
       " Groups    Name        Variance  Std.Dev. \n",
       " point_pct (Intercept) 8.929e-07 0.0009449\n",
       " filename  (Intercept) 2.086e-07 0.0004567\n",
       " Residual              7.530e-06 0.0027441\n",
       "Number of obs: 715, groups:  point_pct, 5; filename, 4\n",
       "\n",
       "Fixed effects:\n",
       "                            Estimate Std. Error         df t value Pr(>|t|)    \n",
       "(Intercept)                2.302e-02  7.182e-04  2.535e+01  32.049  < 2e-16 ***\n",
       "role_rcCFT                 4.105e-03  5.592e-04  7.009e+02   7.341 5.90e-13 ***\n",
       "role_rcfiller              4.014e-03  5.478e-04  6.963e+02   7.327 6.55e-13 ***\n",
       "meaning_rcauthority        3.559e-04  4.006e-04  7.001e+02   0.888  0.37466    \n",
       "meaning_rccomplex         -6.407e-04  6.161e-04  6.836e+02  -1.040  0.29870    \n",
       "meaning_rccontrol         -1.955e-04  4.010e-04  7.003e+02  -0.487  0.62609    \n",
       "meaning_rcdissatisfaction -2.444e-04  7.913e-04  6.122e+02  -0.309  0.75756    \n",
       "meaning_rcnew_info        -3.908e-04  9.133e-04  6.996e+02  -0.428  0.66884    \n",
       "meaning_rcold_ground       4.009e-04  4.268e-04  6.846e+02   0.939  0.34797    \n",
       "meaning_rcthought         -9.559e-04  3.159e-04  6.363e+02  -3.026  0.00258 ** \n",
       "---\n",
       "Signif. codes:  0 '***' 0.001 '**' 0.01 '*' 0.05 '.' 0.1 ' ' 1"
      ]
     },
     "metadata": {},
     "output_type": "display_data"
    }
   ],
   "source": [
    "m_f2 = lmer(freq_f2_cox~role_rc+meaning_rc+(1|filename)+(1|point_pct), data=data)\n",
    "summary(m_f2, corr=F)"
   ]
  },
  {
   "cell_type": "code",
   "execution_count": 36,
   "id": "e7ab7cb8-9ae3-4d2e-a390-0ff3d9ab73f5",
   "metadata": {},
   "outputs": [
    {
     "name": "stderr",
     "output_type": "stream",
     "text": [
      "\n",
      "Correlation matrix not shown by default, as p = 25 > 12.\n",
      "Use print(obj, correlation=TRUE)  or\n",
      "    vcov(obj)        if you need it\n",
      "\n",
      "\n"
     ]
    },
    {
     "data": {
      "text/plain": [
       "Linear mixed model fit by REML. t-tests use Satterthwaite's method [\n",
       "lmerModLmerTest]\n",
       "Formula: freq_f3_cox ~ role_rc + meaning_rc + transcription + (1 | filename) +  \n",
       "    (1 | point_pct)\n",
       "   Data: data\n",
       "\n",
       "REML criterion at convergence: 16065.9\n",
       "\n",
       "Scaled residuals: \n",
       "    Min      1Q  Median      3Q     Max \n",
       "-4.2284 -0.5818 -0.0323  0.5402  5.0680 \n",
       "\n",
       "Random effects:\n",
       " Groups    Name        Variance  Std.Dev.\n",
       " point_pct (Intercept)   4839299  2200   \n",
       " filename  (Intercept)  33828445  5816   \n",
       " Residual              681495036 26105   \n",
       "Number of obs: 715, groups:  point_pct, 5; filename, 4\n",
       "\n",
       "Fixed effects:\n",
       "                          Estimate Std. Error       df t value Pr(>|t|)    \n",
       "(Intercept)               136918.5    19030.8    561.2   7.195 2.02e-12 ***\n",
       "role_rcCFT                 10169.4    16969.8    684.6   0.599   0.5492    \n",
       "role_rcfiller              10913.4    16695.6    685.3   0.654   0.5135    \n",
       "meaning_rcauthority        -8780.5     4351.7    686.0  -2.018   0.0440 *  \n",
       "meaning_rccomplex          -1948.2     6308.0    673.4  -0.309   0.7575    \n",
       "meaning_rccontrol            396.9     4085.7    685.3   0.097   0.9226    \n",
       "meaning_rcdissatisfaction -11890.3    10037.8    685.8  -1.185   0.2366    \n",
       "meaning_rcnew_info         -7082.3    12540.2    677.2  -0.565   0.5724    \n",
       "meaning_rcold_ground        1435.1     4803.8    633.4   0.299   0.7652    \n",
       "meaning_rcthought            694.8     5446.9    685.8   0.128   0.8985    \n",
       "transcriptionha             2523.4    15150.4    684.0   0.167   0.8678    \n",
       "transcriptionhe            21811.8    14691.4    673.9   1.485   0.1381    \n",
       "transcriptionho             3946.5     8192.8    641.4   0.482   0.6302    \n",
       "transcriptionhuh           38835.1    22351.1    681.5   1.738   0.0827 .  \n",
       "transcriptioni             40758.9    22442.9    679.3   1.816   0.0698 .  \n",
       "transcriptionla-ho         -4337.3    14533.3    673.3  -0.298   0.7655    \n",
       "transcriptionm             -8553.9    14858.8    654.3  -0.576   0.5650    \n",
       "transcriptionno            -1505.2    22596.7    673.7  -0.067   0.9469    \n",
       "transcriptionoh             6267.1    10423.1    510.1   0.601   0.5479    \n",
       "transcriptionsisi          20506.2    22011.6    684.6   0.932   0.3519    \n",
       "transcription͡ts             -843.5    22442.9    679.3  -0.038   0.9700    \n",
       "transcriptionuh             1908.9    10094.7    631.6   0.189   0.8501    \n",
       "transcriptionum            -1592.1    12284.5    660.2  -0.130   0.8969    \n",
       "transcriptionw,w           -2019.8    22442.9    679.3  -0.090   0.9283    \n",
       "transcriptionwa           -17781.3    18622.0    686.0  -0.955   0.3400    \n",
       "---\n",
       "Signif. codes:  0 '***' 0.001 '**' 0.01 '*' 0.05 '.' 0.1 ' ' 1"
      ]
     },
     "metadata": {},
     "output_type": "display_data"
    }
   ],
   "source": [
    "m_f3t = lmer(freq_f3_cox~role_rc+meaning_rc+transcription+(1|filename)+(1|point_pct), data=data)\n",
    "summary(m_f3t)"
   ]
  },
  {
   "cell_type": "code",
   "execution_count": 19,
   "id": "bbe4ddef-fe5e-4ba2-ba66-2e17707b2dc3",
   "metadata": {},
   "outputs": [
    {
     "data": {
      "text/plain": [
       "Linear mixed model fit by REML. t-tests use Satterthwaite's method [\n",
       "lmerModLmerTest]\n",
       "Formula: freq_f3_cox ~ role_rc + meaning_rc + (1 | filename) + (1 | point_pct)\n",
       "   Data: data\n",
       "\n",
       "REML criterion at convergence: 10606.6\n",
       "\n",
       "Scaled residuals: \n",
       "    Min      1Q  Median      3Q     Max \n",
       "-4.6819 -0.5622 -0.0642  0.4907  5.7811 \n",
       "\n",
       "Random effects:\n",
       " Groups    Name        Variance Std.Dev.\n",
       " point_pct (Intercept)   4.488   2.118  \n",
       " filename  (Intercept)  12.014   3.466  \n",
       " Residual              527.321  22.963  \n",
       "Number of obs: 1170, groups:  point_pct, 5; filename, 4\n",
       "\n",
       "Fixed effects:\n",
       "                          Estimate Std. Error       df t value Pr(>|t|)    \n",
       "(Intercept)                256.417      3.993   49.368  64.209  < 2e-16 ***\n",
       "role_rcBC                    3.229      4.217 1146.022   0.766  0.44403    \n",
       "role_rcCFT                   1.678      3.732 1151.722   0.450  0.65315    \n",
       "role_rcfiller                1.508      3.478 1152.093   0.434  0.66455    \n",
       "meaning_rcauthority         -7.461      2.545 1151.737  -2.932  0.00344 ** \n",
       "meaning_rccomplex           -6.963      4.313 1069.445  -1.614  0.10678    \n",
       "meaning_rcconcern            9.102      4.154 1139.015   2.191  0.02864 *  \n",
       "meaning_rccontrol           -4.127      2.287 1153.872  -1.805  0.07140 .  \n",
       "meaning_rcdissatisfaction   -9.137      4.893 1151.673  -1.867  0.06209 .  \n",
       "meaning_rcnew_info          -3.520      4.839 1152.161  -0.727  0.46708    \n",
       "meaning_rcold_ground        -5.964      2.735 1152.346  -2.180  0.02943 *  \n",
       "meaning_rcthought            2.346      1.993 1142.456   1.177  0.23947    \n",
       "---\n",
       "Signif. codes:  0 '***' 0.001 '**' 0.01 '*' 0.05 '.' 0.1 ' ' 1\n",
       "\n",
       "Correlation of Fixed Effects:\n",
       "            (Intr) rl_rBC rl_CFT rl_rcf mnng_rcthr mnng_rccm mnng_rccnc\n",
       "role_rcBC   -0.539                                                     \n",
       "role_rcCFT  -0.714  0.571                                              \n",
       "role_rcfllr -0.774  0.612  0.837                                       \n",
       "mnng_rcthrt -0.135  0.009 -0.082 -0.102                                \n",
       "mnng_rccmpl -0.079  0.011 -0.043 -0.093  0.209                         \n",
       "mnng_rccncr -0.330 -0.005  0.268  0.264  0.138      0.105              \n",
       "mnng_rccntr -0.163 -0.015 -0.098 -0.078  0.384      0.211     0.156    \n",
       "mnng_rcdsst -0.064  0.027 -0.081 -0.054  0.175      0.113     0.098    \n",
       "mnng_rcnw_n -0.088 -0.081 -0.023 -0.021  0.167      0.101     0.114    \n",
       "mnng_rcld_g -0.362  0.110  0.176  0.217  0.270      0.180     0.292    \n",
       "mnng_rcthgh -0.179  0.008 -0.011 -0.143  0.444      0.242     0.172    \n",
       "            mnng_rccnt mnng_rcd mnng_rcn_ mnng_rcl_\n",
       "role_rcBC                                          \n",
       "role_rcCFT                                         \n",
       "role_rcfllr                                        \n",
       "mnng_rcthrt                                        \n",
       "mnng_rccmpl                                        \n",
       "mnng_rccncr                                        \n",
       "mnng_rccntr                                        \n",
       "mnng_rcdsst  0.187                                 \n",
       "mnng_rcnw_n  0.191      0.081                      \n",
       "mnng_rcld_g  0.303      0.164    0.157             \n",
       "mnng_rcthgh  0.471      0.203    0.210     0.319   "
      ]
     },
     "metadata": {},
     "output_type": "display_data"
    }
   ],
   "source": [
    "m_f3 = lmer(freq_f3_cox~role_rc+meaning_rc+(1|filename)+(1|point_pct), data=data)\n",
    "summary(m_f3)"
   ]
  },
  {
   "cell_type": "code",
   "execution_count": 37,
   "id": "a7599579-973c-450c-b82a-0a133a29bce4",
   "metadata": {},
   "outputs": [
    {
     "name": "stderr",
     "output_type": "stream",
     "text": [
      "\n",
      "Correlation matrix not shown by default, as p = 25 > 12.\n",
      "Use print(obj, correlation=TRUE)  or\n",
      "    vcov(obj)        if you need it\n",
      "\n",
      "\n"
     ]
    },
    {
     "data": {
      "text/plain": [
       "Linear mixed model fit by REML. t-tests use Satterthwaite's method [\n",
       "lmerModLmerTest]\n",
       "Formula: \n",
       "nasality_cox ~ role_rc + meaning_rc + transcription + (1 | filename) +  \n",
       "    (1 | point_pct)\n",
       "   Data: data\n",
       "\n",
       "REML criterion at convergence: 5975.7\n",
       "\n",
       "Scaled residuals: \n",
       "    Min      1Q  Median      3Q     Max \n",
       "-3.6811 -0.4771  0.0280  0.5278  7.5256 \n",
       "\n",
       "Random effects:\n",
       " Groups    Name        Variance Std.Dev.\n",
       " point_pct (Intercept)  42.51    6.52   \n",
       " filename  (Intercept) 121.38   11.02   \n",
       " Residual              297.14   17.24   \n",
       "Number of obs: 715, groups:  point_pct, 5; filename, 4\n",
       "\n",
       "Fixed effects:\n",
       "                          Estimate Std. Error       df t value Pr(>|t|)    \n",
       "(Intercept)                56.4873    13.9086  99.8298   4.061 9.72e-05 ***\n",
       "role_rcCFT                  9.8218    11.2123 683.3004   0.876  0.38135    \n",
       "role_rcfiller              13.8538    11.0349 683.4312   1.255  0.20974    \n",
       "meaning_rcauthority         5.3173     2.8796 683.9407   1.847  0.06525 .  \n",
       "meaning_rccomplex          -0.6998     4.1892 685.1265  -0.167  0.86738    \n",
       "meaning_rccontrol          -0.3366     2.7006 683.5094  -0.125  0.90084    \n",
       "meaning_rcdissatisfaction   9.1966     6.6442 684.0848   1.384  0.16676    \n",
       "meaning_rcnew_info         -6.8043     8.3218 684.8823  -0.818  0.41384    \n",
       "meaning_rcold_ground       -0.4200     3.2039 685.8846  -0.131  0.89573    \n",
       "meaning_rcthought           5.9348     3.6017 683.6396   1.648  0.09986 .  \n",
       "transcriptionha           -14.5317    10.0087 683.2698  -1.452  0.14699    \n",
       "transcriptionhe             7.6474     9.7570 685.1577   0.784  0.43344    \n",
       "transcriptionho             1.0235     5.4613 685.8435   0.187  0.85140    \n",
       "transcriptionhuh            5.4938    14.8201 684.6632   0.371  0.71097    \n",
       "transcriptioni              1.6173    14.8909 684.9074   0.109  0.91354    \n",
       "transcriptionla-ho         -9.9157     9.6531 685.1904  -1.027  0.30469    \n",
       "transcriptionm              6.6508     9.8909 685.6243   0.672  0.50154    \n",
       "transcriptionno            31.6760    15.0069 685.1445   2.111  0.03515 *  \n",
       "transcriptionoh             7.8386     7.0094 685.3741   1.118  0.26383    \n",
       "transcriptionsisi          10.1691    14.5436 683.3049   0.699  0.48466    \n",
       "transcription͡ts            -7.0017    14.8909 684.9074  -0.470  0.63836    \n",
       "transcriptionuh             6.3087     6.7345 685.9186   0.937  0.34921    \n",
       "transcriptionum            -6.5457     8.1725 685.5256  -0.801  0.42344    \n",
       "transcriptionw,w           44.3296    14.8909 684.9074   2.977  0.00301 ** \n",
       "transcriptionwa            18.0804    12.3195 683.8564   1.468  0.14267    \n",
       "---\n",
       "Signif. codes:  0 '***' 0.001 '**' 0.01 '*' 0.05 '.' 0.1 ' ' 1"
      ]
     },
     "metadata": {},
     "output_type": "display_data"
    }
   ],
   "source": [
    "m_nast = lmer(nasality_cox~role_rc+meaning_rc+transcription+(1|filename)+(1|point_pct), data=data)\n",
    "summary(m_nast)"
   ]
  },
  {
   "cell_type": "code",
   "execution_count": 20,
   "id": "d81320d2-bd08-487d-b597-301903056f2b",
   "metadata": {},
   "outputs": [
    {
     "data": {
      "text/plain": [
       "Linear mixed model fit by REML. t-tests use Satterthwaite's method [\n",
       "lmerModLmerTest]\n",
       "Formula: nasality_cox ~ role_rc + meaning_rc + (1 | filename) + (1 | point_pct)\n",
       "   Data: data\n",
       "\n",
       "REML criterion at convergence: 10026.3\n",
       "\n",
       "Scaled residuals: \n",
       "    Min      1Q  Median      3Q     Max \n",
       "-3.6179 -0.5376  0.0430  0.6122  7.3051 \n",
       "\n",
       "Random effects:\n",
       " Groups    Name        Variance Std.Dev.\n",
       " point_pct (Intercept)  38.90    6.237  \n",
       " filename  (Intercept)  72.08    8.490  \n",
       " Residual              315.20   17.754  \n",
       "Number of obs: 1170, groups:  point_pct, 5; filename, 4\n",
       "\n",
       "Fixed effects:\n",
       "                           Estimate Std. Error        df t value Pr(>|t|)    \n",
       "(Intercept)                 69.8596     5.7452    8.4798  12.160 1.17e-06 ***\n",
       "role_rcBC                   -5.0853     3.2700 1152.6449  -1.555 0.120192    \n",
       "role_rcCFT                  -1.8870     2.8860 1151.1087  -0.654 0.513333    \n",
       "role_rcfiller                1.0950     2.6939 1152.0586   0.406 0.684466    \n",
       "meaning_rcauthority          5.4081     1.9679 1151.1311   2.748 0.006087 ** \n",
       "meaning_rccomplex            1.5096     3.3603 1153.8927   0.449 0.653343    \n",
       "meaning_rcconcern          -11.1306     3.2235 1152.9047  -3.453 0.000575 ***\n",
       "meaning_rccontrol            1.4585     1.7705 1151.7594   0.824 0.410236    \n",
       "meaning_rcdissatisfaction   -0.6343     3.7909 1152.2469  -0.167 0.867154    \n",
       "meaning_rcnew_info          -3.8312     3.7420 1151.1981  -1.024 0.306132    \n",
       "meaning_rcold_ground        -0.6906     2.1189 1152.1347  -0.326 0.744534    \n",
       "meaning_rcthought           10.9905     1.5463 1152.7256   7.108 2.06e-12 ***\n",
       "---\n",
       "Signif. codes:  0 '***' 0.001 '**' 0.01 '*' 0.05 '.' 0.1 ' ' 1\n",
       "\n",
       "Correlation of Fixed Effects:\n",
       "            (Intr) rl_rBC rl_CFT rl_rcf mnng_rcthr mnng_rccm mnng_rccnc\n",
       "role_rcBC   -0.289                                                     \n",
       "role_rcCFT  -0.384  0.569                                              \n",
       "role_rcfllr -0.416  0.609  0.836                                       \n",
       "mnng_rcthrt -0.073  0.008 -0.082 -0.102                                \n",
       "mnng_rccmpl -0.043  0.011 -0.043 -0.097  0.208                         \n",
       "mnng_rccncr -0.176  0.002  0.266  0.260  0.137      0.106              \n",
       "mnng_rccntr -0.088 -0.016 -0.097 -0.075  0.384      0.208     0.152    \n",
       "mnng_rcdsst -0.034  0.031 -0.081 -0.056  0.173      0.113     0.103    \n",
       "mnng_rcnw_n -0.047 -0.082 -0.023 -0.021  0.168      0.102     0.112    \n",
       "mnng_rcld_g -0.194  0.113  0.175  0.215  0.270      0.183     0.296    \n",
       "mnng_rcthgh -0.095  0.005 -0.011 -0.142  0.442      0.233     0.167    \n",
       "            mnng_rccnt mnng_rcd mnng_rcn_ mnng_rcl_\n",
       "role_rcBC                                          \n",
       "role_rcCFT                                         \n",
       "role_rcfllr                                        \n",
       "mnng_rcthrt                                        \n",
       "mnng_rccmpl                                        \n",
       "mnng_rccncr                                        \n",
       "mnng_rccntr                                        \n",
       "mnng_rcdsst  0.184                                 \n",
       "mnng_rcnw_n  0.191      0.080                      \n",
       "mnng_rcld_g  0.301      0.166    0.156             \n",
       "mnng_rcthgh  0.469      0.199    0.209     0.314   "
      ]
     },
     "metadata": {},
     "output_type": "display_data"
    }
   ],
   "source": [
    "m_nas = lmer(nasality_cox~role_rc+meaning_rc+(1|filename)+(1|point_pct), data=data)\n",
    "summary(m_nas)"
   ]
  },
  {
   "cell_type": "markdown",
   "id": "00bdf669-4a71-4359-90a6-6b5542a2be21",
   "metadata": {},
   "source": [
    "## Eyeballing function"
   ]
  },
  {
   "cell_type": "code",
   "execution_count": 21,
   "id": "81389b4e-4f7f-49e0-ad75-8e0ae5af8850",
   "metadata": {},
   "outputs": [
    {
     "name": "stderr",
     "output_type": "stream",
     "text": [
      "Loading required package: tidyr\n",
      "\n",
      "\n",
      "Attaching package: 'tidyr'\n",
      "\n",
      "\n",
      "The following objects are masked from 'package:Matrix':\n",
      "\n",
      "    expand, pack, unpack\n",
      "\n",
      "\n"
     ]
    }
   ],
   "source": [
    "require(ggplot2)\n",
    "require(tidyr)\n",
    "require(dplyr)"
   ]
  },
  {
   "cell_type": "code",
   "execution_count": 22,
   "id": "461e9826-42f6-4199-9801-07e518a5131f",
   "metadata": {},
   "outputs": [],
   "source": [
    "pdata = data %>% select(filename, starts_with(\"freq_\"), nasality, \n",
    "                        role_rc, meaning_rc) %>%     \n",
    "    pivot_longer(cols=c(freq_f1, freq_f2, freq_f3, nasality), names_to=\"var\") %>%\n",
    "    select(-starts_with(\"freq\"))"
   ]
  },
  {
   "cell_type": "code",
   "execution_count": 23,
   "id": "813a2bd3-6bfb-46ee-93fb-1052b0452549",
   "metadata": {},
   "outputs": [
    {
     "data": {
      "image/png": "[encoded data removed]",
      "text/plain": [
       "plot without title"
      ]
     },
     "metadata": {
      "image/png": {
       "height": 720,
       "width": 720
      }
     },
     "output_type": "display_data"
    }
   ],
   "source": [
    "options(repr.plot.width=12, repr.plot.height=12)\n",
    "ggplot(pdata, aes(x=role_rc, y=value))+ geom_boxplot() + \n",
    "    facet_wrap(.~var, scales=\"free\") + \n",
    "    theme(text=element_text(size=18)) + \n",
    "    ggtitle(\"Role\")"
   ]
  },
  {
   "cell_type": "code",
   "execution_count": 24,
   "id": "9cbccf1c-e670-4aa8-b137-e9f94633475b",
   "metadata": {},
   "outputs": [
    {
     "data": {
      "image/png": "[encoded data removed]",
      "text/plain": [
       "plot without title"
      ]
     },
     "metadata": {
      "image/png": {
       "height": 720,
       "width": 720
      }
     },
     "output_type": "display_data"
    }
   ],
   "source": [
    "options(repr.plot.width=12, repr.plot.height=12)\n",
    "ggplot(pdata, aes(x=meaning_rc, y=value))+ geom_boxplot() + \n",
    "    facet_wrap(.~var, scales=\"free\") + \n",
    "    theme(text=element_text(size=18)) + \n",
    "    ggtitle(\"Meaning\")"
   ]
  },
  {
   "cell_type": "code",
   "execution_count": null,
   "id": "29a5ac88-3609-43cc-9563-c77940d44580",
   "metadata": {},
   "outputs": [],
   "source": []
  }
 ],
 "metadata": {
  "kernelspec": {
   "display_name": "R",
   "language": "R",
   "name": "ir"
  },
  "language_info": {
   "codemirror_mode": "r",
   "file_extension": ".r",
   "mimetype": "text/x-r-source",
   "name": "R",
   "pygments_lexer": "r",
   "version": "4.2.1"
  }
 },
 "nbformat": 4,
 "nbformat_minor": 5
}
