{
 "cells": [
  {
   "cell_type": "code",
   "execution_count": null,
   "id": "83a7c501-5b51-4265-9454-563a8541a3d5",
   "metadata": {},
   "outputs": [],
   "source": [
    "require(lme4)\n",
    "require(lmerTest)\n",
    "require(MASS)\n",
    "require(ggplot2)\n",
    "require(dplyr)"
   ]
  },
  {
   "cell_type": "code",
   "execution_count": 3,
   "id": "50d0b1f2-0104-4029-90b1-ea3539db2557",
   "metadata": {},
   "outputs": [
    {
     "name": "stdout",
     "output_type": "stream",
     "text": [
      "removing a nasality outlier of 5.853688 IQR\n",
      "removing a data point with no function annotation\n"
     ]
    }
   ],
   "source": [
    "data = read.csv(\"data/all_data.csv\")\n",
    "\n",
    "cat(\"removing a nasality outlier of \")\n",
    "cat((max(data$nasality)-median(data$nasality))/IQR(data$nasality)); cat(\" IQR\\n\")\n",
    "data = data[data$nasality < 40, ]\n",
    "cat(\"removing a data point with no function annotation\\n\")\n",
    "data = data[data$function_1!=\"\",]\n",
    "\n",
    "data$file = factor(data$file)\n",
    "data$speaker_gender = factor(data$speaker_gender)\n",
    "data$position = relevel(factor(data$position), ref='f')\n",
    "data$syllable_structure = relevel(factor(data$syllable_structure), ref='cv')\n",
    "data$function_1 = relevel(factor(data$function_1), ref='b')\n",
    "data$function_2 = relevel(factor(data$function_2), ref='b')\n",
    "names(data)[names(data)==\"nasality..a1.p0.\"] = \"nasality\""
   ]
  },
  {
   "cell_type": "code",
   "execution_count": 4,
   "id": "86f5c2cf-437b-42c5-8e91-d5391359504d",
   "metadata": {},
   "outputs": [
    {
     "data": {
      "text/html": [
       "<style>\n",
       ".list-inline {list-style: none; margin:0; padding: 0}\n",
       ".list-inline>li {display: inline-block}\n",
       ".list-inline>li:not(:last-child)::after {content: \"\\00b7\"; padding: 0 .5ex}\n",
       "</style>\n",
       "<ol class=list-inline><li>'file'</li><li>'time_start'</li><li>'time_end'</li><li>'time_midpoint'</li><li>'speaker_gender'</li><li>'context_raw'</li><li>'position'</li><li>'syllable_structure'</li><li>'nasalized_perceived'</li><li>'function_1'</li><li>'function_2'</li><li>'nasality'</li><li>'freq_f1'</li><li>'freq_f2'</li><li>'freq_f3'</li></ol>\n"
      ],
      "text/latex": [
       "\\begin{enumerate*}\n",
       "\\item 'file'\n",
       "\\item 'time\\_start'\n",
       "\\item 'time\\_end'\n",
       "\\item 'time\\_midpoint'\n",
       "\\item 'speaker\\_gender'\n",
       "\\item 'context\\_raw'\n",
       "\\item 'position'\n",
       "\\item 'syllable\\_structure'\n",
       "\\item 'nasalized\\_perceived'\n",
       "\\item 'function\\_1'\n",
       "\\item 'function\\_2'\n",
       "\\item 'nasality'\n",
       "\\item 'freq\\_f1'\n",
       "\\item 'freq\\_f2'\n",
       "\\item 'freq\\_f3'\n",
       "\\end{enumerate*}\n"
      ],
      "text/markdown": [
       "1. 'file'\n",
       "2. 'time_start'\n",
       "3. 'time_end'\n",
       "4. 'time_midpoint'\n",
       "5. 'speaker_gender'\n",
       "6. 'context_raw'\n",
       "7. 'position'\n",
       "8. 'syllable_structure'\n",
       "9. 'nasalized_perceived'\n",
       "10. 'function_1'\n",
       "11. 'function_2'\n",
       "12. 'nasality'\n",
       "13. 'freq_f1'\n",
       "14. 'freq_f2'\n",
       "15. 'freq_f3'\n",
       "\n",
       "\n"
      ],
      "text/plain": [
       " [1] \"file\"                \"time_start\"          \"time_end\"           \n",
       " [4] \"time_midpoint\"       \"speaker_gender\"      \"context_raw\"        \n",
       " [7] \"position\"            \"syllable_structure\"  \"nasalized_perceived\"\n",
       "[10] \"function_1\"          \"function_2\"          \"nasality\"           \n",
       "[13] \"freq_f1\"             \"freq_f2\"             \"freq_f3\"            "
      ]
     },
     "metadata": {},
     "output_type": "display_data"
    }
   ],
   "source": [
    "names(data)"
   ]
  },
  {
   "cell_type": "code",
   "execution_count": 5,
   "id": "b56eaa39-9846-4440-a201-d5e0b891b025",
   "metadata": {},
   "outputs": [
    {
     "data": {
      "text/html": [
       "<table class=\"dataframe\">\n",
       "<caption>A data.frame: 6 × 15</caption>\n",
       "<thead>\n",
       "\t<tr><th></th><th scope=col>file</th><th scope=col>time_start</th><th scope=col>time_end</th><th scope=col>time_midpoint</th><th scope=col>speaker_gender</th><th scope=col>context_raw</th><th scope=col>position</th><th scope=col>syllable_structure</th><th scope=col>nasalized_perceived</th><th scope=col>function_1</th><th scope=col>function_2</th><th scope=col>nasality</th><th scope=col>freq_f1</th><th scope=col>freq_f2</th><th scope=col>freq_f3</th></tr>\n",
       "\t<tr><th></th><th scope=col>&lt;fct&gt;</th><th scope=col>&lt;dbl&gt;</th><th scope=col>&lt;dbl&gt;</th><th scope=col>&lt;dbl&gt;</th><th scope=col>&lt;fct&gt;</th><th scope=col>&lt;chr&gt;</th><th scope=col>&lt;fct&gt;</th><th scope=col>&lt;fct&gt;</th><th scope=col>&lt;int&gt;</th><th scope=col>&lt;fct&gt;</th><th scope=col>&lt;fct&gt;</th><th scope=col>&lt;dbl&gt;</th><th scope=col>&lt;int&gt;</th><th scope=col>&lt;int&gt;</th><th scope=col>&lt;int&gt;</th></tr>\n",
       "</thead>\n",
       "<tbody>\n",
       "\t<tr><th scope=row>1</th><td>127849</td><td>12.42569</td><td>13.07296</td><td>12.99933</td><td>m</td><td>h_oN_f</td><td>f</td><td>cv</td><td>1</td><td>b</td><td>b</td><td>2.62</td><td>581</td><td>1116</td><td>2568</td></tr>\n",
       "\t<tr><th scope=row>2</th><td>127849</td><td>20.60964</td><td>21.27795</td><td>21.19380</td><td>m</td><td>h_oN_f</td><td>f</td><td>cv</td><td>1</td><td>a</td><td>a</td><td>8.88</td><td>581</td><td>1080</td><td>2692</td></tr>\n",
       "\t<tr><th scope=row>3</th><td>127849</td><td>21.16914</td><td>21.79538</td><td>21.73226</td><td>m</td><td>h_oN_f</td><td>f</td><td>cv</td><td>1</td><td>b</td><td>b</td><td>6.92</td><td>581</td><td>1124</td><td>2551</td></tr>\n",
       "\t<tr><th scope=row>4</th><td>127849</td><td>22.98549</td><td>23.59069</td><td>23.53809</td><td>m</td><td>h_oN_f</td><td>f</td><td>cv</td><td>1</td><td>a</td><td>a</td><td>3.70</td><td>560</td><td>1119</td><td>2746</td></tr>\n",
       "\t<tr><th scope=row>5</th><td>127849</td><td>26.13353</td><td>26.80885</td><td>26.72119</td><td>m</td><td>h_oN_f</td><td>f</td><td>cv</td><td>1</td><td>a</td><td>a</td><td>6.37</td><td>581</td><td>1088</td><td>2928</td></tr>\n",
       "\t<tr><th scope=row>6</th><td>127849</td><td>27.33452</td><td>27.93972</td><td>27.88712</td><td>m</td><td>h_oN_f</td><td>f</td><td>cv</td><td>1</td><td>b</td><td>b</td><td>5.34</td><td>581</td><td>1105</td><td>2749</td></tr>\n",
       "</tbody>\n",
       "</table>\n"
      ],
      "text/latex": [
       "A data.frame: 6 × 15\n",
       "\\begin{tabular}{r|lllllllllllllll}\n",
       "  & file & time\\_start & time\\_end & time\\_midpoint & speaker\\_gender & context\\_raw & position & syllable\\_structure & nasalized\\_perceived & function\\_1 & function\\_2 & nasality & freq\\_f1 & freq\\_f2 & freq\\_f3\\\\\n",
       "  & <fct> & <dbl> & <dbl> & <dbl> & <fct> & <chr> & <fct> & <fct> & <int> & <fct> & <fct> & <dbl> & <int> & <int> & <int>\\\\\n",
       "\\hline\n",
       "\t1 & 127849 & 12.42569 & 13.07296 & 12.99933 & m & h\\_oN\\_f & f & cv & 1 & b & b & 2.62 & 581 & 1116 & 2568\\\\\n",
       "\t2 & 127849 & 20.60964 & 21.27795 & 21.19380 & m & h\\_oN\\_f & f & cv & 1 & a & a & 8.88 & 581 & 1080 & 2692\\\\\n",
       "\t3 & 127849 & 21.16914 & 21.79538 & 21.73226 & m & h\\_oN\\_f & f & cv & 1 & b & b & 6.92 & 581 & 1124 & 2551\\\\\n",
       "\t4 & 127849 & 22.98549 & 23.59069 & 23.53809 & m & h\\_oN\\_f & f & cv & 1 & a & a & 3.70 & 560 & 1119 & 2746\\\\\n",
       "\t5 & 127849 & 26.13353 & 26.80885 & 26.72119 & m & h\\_oN\\_f & f & cv & 1 & a & a & 6.37 & 581 & 1088 & 2928\\\\\n",
       "\t6 & 127849 & 27.33452 & 27.93972 & 27.88712 & m & h\\_oN\\_f & f & cv & 1 & b & b & 5.34 & 581 & 1105 & 2749\\\\\n",
       "\\end{tabular}\n"
      ],
      "text/markdown": [
       "\n",
       "A data.frame: 6 × 15\n",
       "\n",
       "| <!--/--> | file &lt;fct&gt; | time_start &lt;dbl&gt; | time_end &lt;dbl&gt; | time_midpoint &lt;dbl&gt; | speaker_gender &lt;fct&gt; | context_raw &lt;chr&gt; | position &lt;fct&gt; | syllable_structure &lt;fct&gt; | nasalized_perceived &lt;int&gt; | function_1 &lt;fct&gt; | function_2 &lt;fct&gt; | nasality &lt;dbl&gt; | freq_f1 &lt;int&gt; | freq_f2 &lt;int&gt; | freq_f3 &lt;int&gt; |\n",
       "|---|---|---|---|---|---|---|---|---|---|---|---|---|---|---|---|\n",
       "| 1 | 127849 | 12.42569 | 13.07296 | 12.99933 | m | h_oN_f | f | cv | 1 | b | b | 2.62 | 581 | 1116 | 2568 |\n",
       "| 2 | 127849 | 20.60964 | 21.27795 | 21.19380 | m | h_oN_f | f | cv | 1 | a | a | 8.88 | 581 | 1080 | 2692 |\n",
       "| 3 | 127849 | 21.16914 | 21.79538 | 21.73226 | m | h_oN_f | f | cv | 1 | b | b | 6.92 | 581 | 1124 | 2551 |\n",
       "| 4 | 127849 | 22.98549 | 23.59069 | 23.53809 | m | h_oN_f | f | cv | 1 | a | a | 3.70 | 560 | 1119 | 2746 |\n",
       "| 5 | 127849 | 26.13353 | 26.80885 | 26.72119 | m | h_oN_f | f | cv | 1 | a | a | 6.37 | 581 | 1088 | 2928 |\n",
       "| 6 | 127849 | 27.33452 | 27.93972 | 27.88712 | m | h_oN_f | f | cv | 1 | b | b | 5.34 | 581 | 1105 | 2749 |\n",
       "\n"
      ],
      "text/plain": [
       "  file   time_start time_end time_midpoint speaker_gender context_raw position\n",
       "1 127849 12.42569   13.07296 12.99933      m              h_oN_f      f       \n",
       "2 127849 20.60964   21.27795 21.19380      m              h_oN_f      f       \n",
       "3 127849 21.16914   21.79538 21.73226      m              h_oN_f      f       \n",
       "4 127849 22.98549   23.59069 23.53809      m              h_oN_f      f       \n",
       "5 127849 26.13353   26.80885 26.72119      m              h_oN_f      f       \n",
       "6 127849 27.33452   27.93972 27.88712      m              h_oN_f      f       \n",
       "  syllable_structure nasalized_perceived function_1 function_2 nasality freq_f1\n",
       "1 cv                 1                   b          b          2.62     581    \n",
       "2 cv                 1                   a          a          8.88     581    \n",
       "3 cv                 1                   b          b          6.92     581    \n",
       "4 cv                 1                   a          a          3.70     560    \n",
       "5 cv                 1                   a          a          6.37     581    \n",
       "6 cv                 1                   b          b          5.34     581    \n",
       "  freq_f2 freq_f3\n",
       "1 1116    2568   \n",
       "2 1080    2692   \n",
       "3 1124    2551   \n",
       "4 1119    2746   \n",
       "5 1088    2928   \n",
       "6 1105    2749   "
      ]
     },
     "metadata": {},
     "output_type": "display_data"
    }
   ],
   "source": [
    "head(data)"
   ]
  },
  {
   "cell_type": "code",
   "execution_count": 6,
   "id": "70d0a452-8ed0-4929-8927-152733137489",
   "metadata": {},
   "outputs": [
    {
     "data": {
      "text/html": [
       "0.87593984962406"
      ],
      "text/latex": [
       "0.87593984962406"
      ],
      "text/markdown": [
       "0.87593984962406"
      ],
      "text/plain": [
       "[1] 0.8759398"
      ]
     },
     "metadata": {},
     "output_type": "display_data"
    }
   ],
   "source": [
    "sum(data$function_1 == data$function_2)/nrow(data)"
   ]
  },
  {
   "cell_type": "code",
   "execution_count": 7,
   "id": "d5c8ed06-ec84-4c8b-82dc-6d8e0d9b7b36",
   "metadata": {},
   "outputs": [
    {
     "name": "stdout",
     "output_type": "stream",
     "text": [
      "[1] 1.2\n"
     ]
    }
   ],
   "source": [
    "f1_bc = boxcox(lm(data$freq_f1~1), plotit=F)\n",
    "print(f1_bc$x[which.max(f1_bc$y)])\n",
    "data$freq_f1_cox = data$freq_f1 ^ 1.2"
   ]
  },
  {
   "cell_type": "code",
   "execution_count": 8,
   "id": "ec88d0f2-f964-477d-815b-3a842213e328",
   "metadata": {},
   "outputs": [
    {
     "name": "stdout",
     "output_type": "stream",
     "text": [
      "[1] -1.7\n"
     ]
    }
   ],
   "source": [
    "f2_bc = boxcox(lm(data$freq_f2~1), plotit=F)\n",
    "print(f2_bc$x[which.max(f2_bc$y)])\n",
    "data$freq_f2_cox = data$freq_f2 ^ -1.6 "
   ]
  },
  {
   "cell_type": "code",
   "execution_count": 9,
   "id": "dfed514d-2a60-46a6-adb5-1f8f2dda9306",
   "metadata": {},
   "outputs": [
    {
     "name": "stdout",
     "output_type": "stream",
     "text": [
      "[1] -2\n"
     ]
    }
   ],
   "source": [
    "f3_bc = boxcox(lm(data$freq_f3~1), plotit=F)\n",
    "print(f3_bc$x[which.max(f3_bc$y)])\n",
    "data$freq_f3_cox = data$freq_f3 ^ -2"
   ]
  },
  {
   "cell_type": "code",
   "execution_count": 10,
   "id": "06a68e9b-ce7e-4a4c-beac-5b4261f614e2",
   "metadata": {},
   "outputs": [
    {
     "name": "stdout",
     "output_type": "stream",
     "text": [
      "[1] 1.7\n"
     ]
    }
   ],
   "source": [
    "nas_tr = data$nasality - min(data$nasality)+0.01\n",
    "nas_bc = boxcox(lm(nas_tr~1), plotit=F)\n",
    "print(nas_bc$x[which.max(nas_bc$y)])\n",
    "data$nasality_cox = nas_tr ^ 1.7"
   ]
  },
  {
   "cell_type": "code",
   "execution_count": 10,
   "id": "5d740c4e-3c69-4dd7-88c1-cdd5c92dfb62",
   "metadata": {},
   "outputs": [
    {
     "data": {
      "image/png": "[encoded data removed]",
      "text/plain": [
       "Plot with title \"Histogram of data$nasality_cox\""
      ]
     },
     "metadata": {
      "image/png": {
       "height": 240,
       "width": 720
      }
     },
     "output_type": "display_data"
    }
   ],
   "source": [
    "options(repr.plot.width=12, repr.plot.height=4)\n",
    "par(mfrow=c(1,4))\n",
    "hist(data$freq_f1_cox)\n",
    "hist(data$freq_f2_cox)\n",
    "hist(data$freq_f3_cox)\n",
    "hist(data$nasality_cox)"
   ]
  },
  {
   "cell_type": "code",
   "execution_count": 11,
   "id": "22509059-0dbe-4248-b4d9-239709b4d03c",
   "metadata": {},
   "outputs": [
    {
     "data": {
      "text/html": [
       "<table class=\"dataframe\">\n",
       "<caption>A table: 4 × 7 of type dbl</caption>\n",
       "<thead>\n",
       "\t<tr><th></th><th scope=col>127849</th><th scope=col>127889</th><th scope=col>127903</th><th scope=col>127909</th><th scope=col>127940</th><th scope=col>128068</th><th scope=col>Sum</th></tr>\n",
       "</thead>\n",
       "<tbody>\n",
       "\t<tr><th scope=row>b</th><td>15</td><td>66</td><td>64</td><td>12</td><td>41</td><td>14</td><td>212</td></tr>\n",
       "\t<tr><th scope=row>a</th><td> 6</td><td> 6</td><td> 7</td><td> 0</td><td> 2</td><td> 1</td><td> 22</td></tr>\n",
       "\t<tr><th scope=row>c</th><td> 2</td><td> 7</td><td> 5</td><td> 5</td><td>10</td><td> 3</td><td> 32</td></tr>\n",
       "\t<tr><th scope=row>Sum</th><td>23</td><td>79</td><td>76</td><td>17</td><td>53</td><td>18</td><td>266</td></tr>\n",
       "</tbody>\n",
       "</table>\n"
      ],
      "text/latex": [
       "A table: 4 × 7 of type dbl\n",
       "\\begin{tabular}{r|lllllll}\n",
       "  & 127849 & 127889 & 127903 & 127909 & 127940 & 128068 & Sum\\\\\n",
       "\\hline\n",
       "\tb & 15 & 66 & 64 & 12 & 41 & 14 & 212\\\\\n",
       "\ta &  6 &  6 &  7 &  0 &  2 &  1 &  22\\\\\n",
       "\tc &  2 &  7 &  5 &  5 & 10 &  3 &  32\\\\\n",
       "\tSum & 23 & 79 & 76 & 17 & 53 & 18 & 266\\\\\n",
       "\\end{tabular}\n"
      ],
      "text/markdown": [
       "\n",
       "A table: 4 × 7 of type dbl\n",
       "\n",
       "| <!--/--> | 127849 | 127889 | 127903 | 127909 | 127940 | 128068 | Sum |\n",
       "|---|---|---|---|---|---|---|---|\n",
       "| b | 15 | 66 | 64 | 12 | 41 | 14 | 212 |\n",
       "| a |  6 |  6 |  7 |  0 |  2 |  1 |  22 |\n",
       "| c |  2 |  7 |  5 |  5 | 10 |  3 |  32 |\n",
       "| Sum | 23 | 79 | 76 | 17 | 53 | 18 | 266 |\n",
       "\n"
      ],
      "text/plain": [
       "          file\n",
       "function_1 127849 127889 127903 127909 127940 128068 Sum\n",
       "       b   15     66     64     12     41     14     212\n",
       "       a    6      6      7      0      2      1      22\n",
       "       c    2      7      5      5     10      3      32\n",
       "       Sum 23     79     76     17     53     18     266"
      ]
     },
     "metadata": {},
     "output_type": "display_data"
    }
   ],
   "source": [
    "addmargins(xtabs(~function_1+file, data=data))"
   ]
  },
  {
   "cell_type": "code",
   "execution_count": 12,
   "id": "bbd40de2-4c9d-45f0-acf3-6bdf83657c85",
   "metadata": {},
   "outputs": [
    {
     "data": {
      "text/html": [
       "<table class=\"dataframe\">\n",
       "<caption>A table: 4 × 3 of type dbl</caption>\n",
       "<thead>\n",
       "\t<tr><th></th><th scope=col>f</th><th scope=col>i</th><th scope=col>Sum</th></tr>\n",
       "</thead>\n",
       "<tbody>\n",
       "\t<tr><th scope=row>b</th><td>146</td><td>66</td><td>212</td></tr>\n",
       "\t<tr><th scope=row>a</th><td> 19</td><td> 3</td><td> 22</td></tr>\n",
       "\t<tr><th scope=row>c</th><td> 31</td><td> 1</td><td> 32</td></tr>\n",
       "\t<tr><th scope=row>Sum</th><td>196</td><td>70</td><td>266</td></tr>\n",
       "</tbody>\n",
       "</table>\n"
      ],
      "text/latex": [
       "A table: 4 × 3 of type dbl\n",
       "\\begin{tabular}{r|lll}\n",
       "  & f & i & Sum\\\\\n",
       "\\hline\n",
       "\tb & 146 & 66 & 212\\\\\n",
       "\ta &  19 &  3 &  22\\\\\n",
       "\tc &  31 &  1 &  32\\\\\n",
       "\tSum & 196 & 70 & 266\\\\\n",
       "\\end{tabular}\n"
      ],
      "text/markdown": [
       "\n",
       "A table: 4 × 3 of type dbl\n",
       "\n",
       "| <!--/--> | f | i | Sum |\n",
       "|---|---|---|---|\n",
       "| b | 146 | 66 | 212 |\n",
       "| a |  19 |  3 |  22 |\n",
       "| c |  31 |  1 |  32 |\n",
       "| Sum | 196 | 70 | 266 |\n",
       "\n"
      ],
      "text/plain": [
       "          position\n",
       "function_1 f   i  Sum\n",
       "       b   146 66 212\n",
       "       a    19  3  22\n",
       "       c    31  1  32\n",
       "       Sum 196 70 266"
      ]
     },
     "metadata": {},
     "output_type": "display_data"
    }
   ],
   "source": [
    "addmargins(xtabs(~function_1+position, data=data))"
   ]
  },
  {
   "cell_type": "code",
   "execution_count": 13,
   "id": "38ed7592-7e96-46a7-a7bd-44ee10a6786c",
   "metadata": {},
   "outputs": [
    {
     "data": {
      "text/html": [
       "<table class=\"dataframe\">\n",
       "<caption>A table: 4 × 3 of type dbl</caption>\n",
       "<thead>\n",
       "\t<tr><th></th><th scope=col>cv</th><th scope=col>v</th><th scope=col>Sum</th></tr>\n",
       "</thead>\n",
       "<tbody>\n",
       "\t<tr><th scope=row>b</th><td>182</td><td>30</td><td>212</td></tr>\n",
       "\t<tr><th scope=row>a</th><td> 21</td><td> 1</td><td> 22</td></tr>\n",
       "\t<tr><th scope=row>c</th><td> 23</td><td> 9</td><td> 32</td></tr>\n",
       "\t<tr><th scope=row>Sum</th><td>226</td><td>40</td><td>266</td></tr>\n",
       "</tbody>\n",
       "</table>\n"
      ],
      "text/latex": [
       "A table: 4 × 3 of type dbl\n",
       "\\begin{tabular}{r|lll}\n",
       "  & cv & v & Sum\\\\\n",
       "\\hline\n",
       "\tb & 182 & 30 & 212\\\\\n",
       "\ta &  21 &  1 &  22\\\\\n",
       "\tc &  23 &  9 &  32\\\\\n",
       "\tSum & 226 & 40 & 266\\\\\n",
       "\\end{tabular}\n"
      ],
      "text/markdown": [
       "\n",
       "A table: 4 × 3 of type dbl\n",
       "\n",
       "| <!--/--> | cv | v | Sum |\n",
       "|---|---|---|---|\n",
       "| b | 182 | 30 | 212 |\n",
       "| a |  21 |  1 |  22 |\n",
       "| c |  23 |  9 |  32 |\n",
       "| Sum | 226 | 40 | 266 |\n",
       "\n"
      ],
      "text/plain": [
       "          syllable_structure\n",
       "function_1 cv  v  Sum\n",
       "       b   182 30 212\n",
       "       a    21  1  22\n",
       "       c    23  9  32\n",
       "       Sum 226 40 266"
      ]
     },
     "metadata": {},
     "output_type": "display_data"
    }
   ],
   "source": [
    "addmargins(xtabs(~function_1+syllable_structure, data=data))"
   ]
  },
  {
   "cell_type": "markdown",
   "id": "631f53df-2668-426c-be1b-c45652feae81",
   "metadata": {},
   "source": [
    "## Nasality index vs. perceived"
   ]
  },
  {
   "cell_type": "code",
   "execution_count": 23,
   "id": "9a41279d-3ee0-4480-bc0e-784b8355773e",
   "metadata": {},
   "outputs": [],
   "source": [
    "nas_data = data %>% group_by(nasalized_perceived) %>%\n",
    "           summarize(mean=mean(nasality), se=sd(nasality)/sqrt(n())) %>%\n",
    "           ungroup()"
   ]
  },
  {
   "cell_type": "code",
   "execution_count": 24,
   "id": "f383676d-ea64-497a-a808-198a6f17f2f9",
   "metadata": {},
   "outputs": [
    {
     "data": {
      "text/html": [
       "<table class=\"dataframe\">\n",
       "<caption>A tibble: 2 × 3</caption>\n",
       "<thead>\n",
       "\t<tr><th scope=col>nasalized_perceived</th><th scope=col>mean</th><th scope=col>se</th></tr>\n",
       "\t<tr><th scope=col>&lt;int&gt;</th><th scope=col>&lt;dbl&gt;</th><th scope=col>&lt;dbl&gt;</th></tr>\n",
       "</thead>\n",
       "<tbody>\n",
       "\t<tr><td>0</td><td>9.251961</td><td>0.8501008</td></tr>\n",
       "\t<tr><td>1</td><td>4.661907</td><td>0.4596335</td></tr>\n",
       "</tbody>\n",
       "</table>\n"
      ],
      "text/latex": [
       "A tibble: 2 × 3\n",
       "\\begin{tabular}{lll}\n",
       " nasalized\\_perceived & mean & se\\\\\n",
       " <int> & <dbl> & <dbl>\\\\\n",
       "\\hline\n",
       "\t 0 & 9.251961 & 0.8501008\\\\\n",
       "\t 1 & 4.661907 & 0.4596335\\\\\n",
       "\\end{tabular}\n"
      ],
      "text/markdown": [
       "\n",
       "A tibble: 2 × 3\n",
       "\n",
       "| nasalized_perceived &lt;int&gt; | mean &lt;dbl&gt; | se &lt;dbl&gt; |\n",
       "|---|---|---|\n",
       "| 0 | 9.251961 | 0.8501008 |\n",
       "| 1 | 4.661907 | 0.4596335 |\n",
       "\n"
      ],
      "text/plain": [
       "  nasalized_perceived mean     se       \n",
       "1 0                   9.251961 0.8501008\n",
       "2 1                   4.661907 0.4596335"
      ]
     },
     "metadata": {},
     "output_type": "display_data"
    }
   ],
   "source": [
    "nas_data"
   ]
  },
  {
   "cell_type": "code",
   "execution_count": 32,
   "id": "c393951b-5c6c-4967-89df-15d7c05d9982",
   "metadata": {},
   "outputs": [
    {
     "data": {
      "image/png": "[encoded data removed]",
      "text/plain": [
       "plot without title"
      ]
     },
     "metadata": {
      "image/png": {
       "height": 420,
       "width": 420
      }
     },
     "output_type": "display_data"
    }
   ],
   "source": [
    "ggplot(nas_data, aes(x=nasalized_perceived, y=mean)) + \n",
    "       geom_bar(stat=\"identity\") +\n",
    "       geom_errorbar(aes(ymin=mean-se, ymax=mean+se), \n",
    "                     width=.2, size=1) + \n",
    "       theme_classic()"
   ]
  },
  {
   "cell_type": "code",
   "execution_count": 14,
   "id": "7ebba080-55ea-4354-bb69-726911f89dd8",
   "metadata": {},
   "outputs": [
    {
     "data": {
      "text/plain": [
       "\n",
       "Call:\n",
       "lm(formula = nasality_cox ~ nasalized_perceived, data = data)\n",
       "\n",
       "Residuals:\n",
       "     Min       1Q   Median       3Q      Max \n",
       "-256.789  -63.547    8.803   65.607  211.160 \n",
       "\n",
       "Coefficients:\n",
       "                    Estimate Std. Error t value Pr(>|t|)    \n",
       "(Intercept)           293.83      13.11  22.417  < 2e-16 ***\n",
       "nasalized_perceived   -72.67      14.58  -4.984 1.13e-06 ***\n",
       "---\n",
       "Signif. codes:  0 '***' 0.001 '**' 0.01 '*' 0.05 '.' 0.1 ' ' 1\n",
       "\n",
       "Residual standard error: 93.6 on 264 degrees of freedom\n",
       "Multiple R-squared:  0.08601,\tAdjusted R-squared:  0.08255 \n",
       "F-statistic: 24.84 on 1 and 264 DF,  p-value: 1.126e-06\n"
      ]
     },
     "metadata": {},
     "output_type": "display_data"
    }
   ],
   "source": [
    "summary(lm(nasality_cox~nasalized_perceived, data=data))"
   ]
  },
  {
   "cell_type": "code",
   "execution_count": 15,
   "id": "c3808a67-5c85-43c4-811a-0380f9a9c264",
   "metadata": {},
   "outputs": [
    {
     "data": {
      "text/plain": [
       "\n",
       "Call:\n",
       "glm(formula = nasalized_perceived ~ nasality, family = \"binomial\", \n",
       "    data = data)\n",
       "\n",
       "Deviance Residuals: \n",
       "    Min       1Q   Median       3Q      Max  \n",
       "-2.7810   0.2552   0.5274   0.7122   1.1346  \n",
       "\n",
       "Coefficients:\n",
       "            Estimate Std. Error z value Pr(>|z|)    \n",
       "(Intercept)  2.43767    0.32805   7.431 1.08e-13 ***\n",
       "nasality    -0.13791    0.03322  -4.151 3.31e-05 ***\n",
       "---\n",
       "Signif. codes:  0 '***' 0.001 '**' 0.01 '*' 0.05 '.' 0.1 ' ' 1\n",
       "\n",
       "(Dispersion parameter for binomial family taken to be 1)\n",
       "\n",
       "    Null deviance: 260.00  on 265  degrees of freedom\n",
       "Residual deviance: 237.22  on 264  degrees of freedom\n",
       "AIC: 241.22\n",
       "\n",
       "Number of Fisher Scoring iterations: 5\n"
      ]
     },
     "metadata": {},
     "output_type": "display_data"
    }
   ],
   "source": [
    "summary(glm(nasalized_perceived~nasality, data=data, family=\"binomial\"))"
   ]
  },
  {
   "cell_type": "markdown",
   "id": "34c0ca8c-fc4a-4638-9ca2-66da247d7e6a",
   "metadata": {},
   "source": [
    "## Mixed Models"
   ]
  },
  {
   "cell_type": "code",
   "execution_count": 16,
   "id": "5c551c49-6e7e-4c04-b879-ea18d426f977",
   "metadata": {},
   "outputs": [
    {
     "data": {
      "text/plain": [
       "Linear mixed model fit by REML. t-tests use Satterthwaite's method [\n",
       "lmerModLmerTest]\n",
       "Formula: freq_f1_cox ~ position + syllable_structure + function_1 + (1 |  \n",
       "    file)\n",
       "   Data: data\n",
       "\n",
       "REML criterion at convergence: 4132.3\n",
       "\n",
       "Scaled residuals: \n",
       "    Min      1Q  Median      3Q     Max \n",
       "-3.7442 -0.5722  0.0374  0.5587  4.4100 \n",
       "\n",
       "Random effects:\n",
       " Groups   Name        Variance Std.Dev.\n",
       " file     (Intercept)  46839   216.4   \n",
       " Residual             396498   629.7   \n",
       "Number of obs: 266, groups:  file, 6\n",
       "\n",
       "Fixed effects:\n",
       "                    Estimate Std. Error       df t value Pr(>|t|)    \n",
       "(Intercept)         2654.381    107.582    6.032  24.673 2.74e-07 ***\n",
       "positioni           -212.178     92.171  260.719  -2.302   0.0221 *  \n",
       "syllable_structurev  499.520    122.075  226.549   4.092 5.95e-05 ***\n",
       "function_1a          115.750    144.833  260.115   0.799   0.4249    \n",
       "function_1c         -127.592    124.039  258.148  -1.029   0.3046    \n",
       "---\n",
       "Signif. codes:  0 '***' 0.001 '**' 0.01 '*' 0.05 '.' 0.1 ' ' 1\n",
       "\n",
       "Correlation of Fixed Effects:\n",
       "            (Intr) positn syllb_ functn_1\n",
       "positioni   -0.214                       \n",
       "syllbl_strc -0.241 -0.007                \n",
       "function_1a -0.174  0.113  0.082         \n",
       "function_1c -0.178  0.180 -0.116  0.104  "
      ]
     },
     "metadata": {},
     "output_type": "display_data"
    }
   ],
   "source": [
    "m_f1 = lmer(freq_f1_cox~position+syllable_structure+function_1+(1|file), data=data)\n",
    "summary(m_f1)"
   ]
  },
  {
   "cell_type": "code",
   "execution_count": 17,
   "id": "18e7a905-b9c5-42fe-8c04-ee6fe57316cd",
   "metadata": {},
   "outputs": [
    {
     "data": {
      "text/plain": [
       "Linear mixed model fit by REML. t-tests use Satterthwaite's method [\n",
       "lmerModLmerTest]\n",
       "Formula: freq_f2_cox ~ position + syllable_structure + function_1 + (1 |  \n",
       "    file)\n",
       "   Data: data\n",
       "\n",
       "REML criterion at convergence: -5806.7\n",
       "\n",
       "Scaled residuals: \n",
       "    Min      1Q  Median      3Q     Max \n",
       "-2.9965 -0.4941  0.1079  0.5040  3.0261 \n",
       "\n",
       "Random effects:\n",
       " Groups   Name        Variance  Std.Dev. \n",
       " file     (Intercept) 1.628e-12 1.276e-06\n",
       " Residual             1.145e-11 3.384e-06\n",
       "Number of obs: 266, groups:  file, 6\n",
       "\n",
       "Fixed effects:\n",
       "                      Estimate Std. Error         df t value Pr(>|t|)    \n",
       "(Intercept)          1.328e-05  6.175e-07  5.442e+00  21.511 1.79e-06 ***\n",
       "positioni           -3.071e-07  4.958e-07  1.913e+01  -0.619   0.5430    \n",
       "syllable_structurev -1.774e-06  6.592e-07  1.891e+01  -2.692   0.0145 *  \n",
       "function_1a         -6.385e-07  7.789e-07  1.913e+01  -0.820   0.4224    \n",
       "function_1c          6.344e-07  6.668e-07  1.914e+01   0.951   0.3533    \n",
       "---\n",
       "Signif. codes:  0 '***' 0.001 '**' 0.01 '*' 0.05 '.' 0.1 ' ' 1\n",
       "\n",
       "Correlation of Fixed Effects:\n",
       "            (Intr) positn syllb_ functn_1\n",
       "positioni   -0.197                       \n",
       "syllbl_strc -0.229 -0.010                \n",
       "function_1a -0.163  0.113  0.082         \n",
       "function_1c -0.167  0.179 -0.116  0.103  "
      ]
     },
     "metadata": {},
     "output_type": "display_data"
    }
   ],
   "source": [
    "m_f2 = lmer(freq_f2_cox~position+syllable_structure+function_1+(1|file), data=data)\n",
    "summary(m_f2)"
   ]
  },
  {
   "cell_type": "code",
   "execution_count": 18,
   "id": "bbe4ddef-fe5e-4ba2-ba66-2e17707b2dc3",
   "metadata": {},
   "outputs": [
    {
     "data": {
      "text/plain": [
       "Linear mixed model fit by REML. t-tests use Satterthwaite's method [\n",
       "lmerModLmerTest]\n",
       "Formula: freq_f3_cox ~ position + syllable_structure + function_1 + (1 |  \n",
       "    file)\n",
       "   Data: data\n",
       "\n",
       "REML criterion at convergence: -8344.9\n",
       "\n",
       "Scaled residuals: \n",
       "    Min      1Q  Median      3Q     Max \n",
       "-2.5267 -0.6472  0.0106  0.6867  2.7977 \n",
       "\n",
       "Random effects:\n",
       " Groups   Name        Variance  Std.Dev. \n",
       " file     (Intercept) 4.819e-18 2.195e-09\n",
       " Residual             7.045e-16 2.654e-08\n",
       "Number of obs: 266, groups:  file, 6\n",
       "\n",
       "Fixed effects:\n",
       "                      Estimate Std. Error         df t value Pr(>|t|)\n",
       "(Intercept)          1.365e-07  2.516e-09  8.736e-03  54.269    0.940\n",
       "positioni           -1.844e-09  3.818e-09  8.744e-03  -0.483    0.980\n",
       "syllable_structurev -6.367e-09  4.726e-09  8.744e-03  -1.347    0.971\n",
       "function_1a         -4.982e-09  6.023e-09  8.744e-03  -0.827    0.975\n",
       "function_1c          5.549e-09  5.191e-09  8.744e-03   1.069    0.973\n",
       "\n",
       "Correlation of Fixed Effects:\n",
       "            (Intr) positn syllb_ functn_1\n",
       "positioni   -0.468                       \n",
       "syllbl_strc -0.317  0.055                \n",
       "function_1a -0.300  0.115  0.083         \n",
       "function_1c -0.321  0.192 -0.113  0.117  "
      ]
     },
     "metadata": {},
     "output_type": "display_data"
    }
   ],
   "source": [
    "m_f3 = lmer(freq_f3_cox~position+syllable_structure+function_1+(1|file), data=data)\n",
    "summary(m_f3)"
   ]
  },
  {
   "cell_type": "code",
   "execution_count": 19,
   "id": "d81320d2-bd08-487d-b597-301903056f2b",
   "metadata": {},
   "outputs": [
    {
     "data": {
      "text/plain": [
       "Linear mixed model fit by REML. t-tests use Satterthwaite's method [\n",
       "lmerModLmerTest]\n",
       "Formula: nasality_cox ~ position + syllable_structure + function_1 + (1 |  \n",
       "    file)\n",
       "   Data: data\n",
       "\n",
       "REML criterion at convergence: 3093.7\n",
       "\n",
       "Scaled residuals: \n",
       "     Min       1Q   Median       3Q      Max \n",
       "-3.07417 -0.49052  0.09329  0.69308  2.36644 \n",
       "\n",
       "Random effects:\n",
       " Groups   Name        Variance Std.Dev.\n",
       " file     (Intercept) 3295     57.40   \n",
       " Residual             7250     85.15   \n",
       "Number of obs: 266, groups:  file, 6\n",
       "\n",
       "Fixed effects:\n",
       "                    Estimate Std. Error       df t value Pr(>|t|)    \n",
       "(Intercept)         219.3550    24.9376   5.4033   8.796 0.000211 ***\n",
       "positioni             8.8508    12.5307 258.2898   0.706 0.480618    \n",
       "syllable_structurev   0.3704    16.9436 260.4912   0.022 0.982574    \n",
       "function_1a          18.7084    19.6640 257.7405   0.951 0.342292    \n",
       "function_1c           2.5354    16.8021 256.7479   0.151 0.880176    \n",
       "---\n",
       "Signif. codes:  0 '***' 0.001 '**' 0.01 '*' 0.05 '.' 0.1 ' ' 1\n",
       "\n",
       "Correlation of Fixed Effects:\n",
       "            (Intr) positn syllb_ functn_1\n",
       "positioni   -0.116                       \n",
       "syllbl_strc -0.153 -0.026                \n",
       "function_1a -0.102  0.113  0.079         \n",
       "function_1c -0.104  0.177 -0.116  0.100  "
      ]
     },
     "metadata": {},
     "output_type": "display_data"
    }
   ],
   "source": [
    "m_nas = lmer(nasality_cox~position+syllable_structure+function_1+(1|file), data=data)\n",
    "summary(m_nas)"
   ]
  },
  {
   "cell_type": "markdown",
   "id": "00bdf669-4a71-4359-90a6-6b5542a2be21",
   "metadata": {},
   "source": [
    "## Eyeballing function"
   ]
  },
  {
   "cell_type": "code",
   "execution_count": 20,
   "id": "81389b4e-4f7f-49e0-ad75-8e0ae5af8850",
   "metadata": {},
   "outputs": [
    {
     "name": "stderr",
     "output_type": "stream",
     "text": [
      "Loading required package: ggplot2\n",
      "\n"
     ]
    }
   ],
   "source": [
    "require(ggplot2)\n",
    "require(tidyr)\n",
    "require(dplyr)"
   ]
  },
  {
   "cell_type": "code",
   "execution_count": 25,
   "id": "461e9826-42f6-4199-9801-07e518a5131f",
   "metadata": {},
   "outputs": [],
   "source": [
    "pdata = data %>% select(file, starts_with(\"freq_\"), nasality, \n",
    "                        function_1, position, syllable_structure) %>%     \n",
    "    pivot_longer(cols=c(freq_f1, freq_f2, freq_f3, nasality), names_to=\"var\") %>%\n",
    "    select(-starts_with(\"freq\"))"
   ]
  },
  {
   "cell_type": "code",
   "execution_count": 26,
   "id": "813a2bd3-6bfb-46ee-93fb-1052b0452549",
   "metadata": {},
   "outputs": [
    {
     "data": {
      "image/png": "[encoded data removed]",
      "text/plain": [
       "plot without title"
      ]
     },
     "metadata": {
      "image/png": {
       "height": 720,
       "width": 720
      }
     },
     "output_type": "display_data"
    }
   ],
   "source": [
    "options(repr.plot.width=12, repr.plot.height=12)\n",
    "ggplot(pdata, aes(x=file, y=value, fill=position))+ geom_boxplot() + \n",
    "    facet_wrap(.~var, scales=\"free\") + \n",
    "    theme(text=element_text(size=18)) + \n",
    "    ggtitle(\"Position\")"
   ]
  },
  {
   "cell_type": "code",
   "execution_count": 27,
   "id": "9cbccf1c-e670-4aa8-b137-e9f94633475b",
   "metadata": {},
   "outputs": [
    {
     "data": {
      "image/png": "[encoded data removed]",
      "text/plain": [
       "plot without title"
      ]
     },
     "metadata": {
      "image/png": {
       "height": 720,
       "width": 720
      }
     },
     "output_type": "display_data"
    }
   ],
   "source": [
    "options(repr.plot.width=12, repr.plot.height=12)\n",
    "ggplot(pdata, aes(x=file, y=value, fill=syllable_structure))+ geom_boxplot() + \n",
    "    facet_wrap(.~var, scales=\"free\") + \n",
    "    theme(text=element_text(size=18)) + \n",
    "    ggtitle(\"Syllable Structure\")"
   ]
  },
  {
   "cell_type": "code",
   "execution_count": 28,
   "id": "30c2383c-3238-46f8-90b9-e256a3ed8bcb",
   "metadata": {},
   "outputs": [
    {
     "data": {
      "image/png": "[encoded data removed]",
      "text/plain": [
       "plot without title"
      ]
     },
     "metadata": {
      "image/png": {
       "height": 720,
       "width": 720
      }
     },
     "output_type": "display_data"
    }
   ],
   "source": [
    "options(repr.plot.width=12, repr.plot.height=12)\n",
    "ggplot(pdata, aes(x=file, y=value, fill=function_1))+ geom_boxplot() + \n",
    "    facet_wrap(.~var, scales=\"free\") + \n",
    "    theme(text=element_text(size=18)) + \n",
    "    ggtitle(\"Function_1\")\n"
   ]
  },
  {
   "cell_type": "code",
   "execution_count": null,
   "id": "29a5ac88-3609-43cc-9563-c77940d44580",
   "metadata": {},
   "outputs": [],
   "source": []
  }
 ],
 "metadata": {
  "kernelspec": {
   "display_name": "R",
   "language": "R",
   "name": "ir"
  },
  "language_info": {
   "codemirror_mode": "r",
   "file_extension": ".r",
   "mimetype": "text/x-r-source",
   "name": "R",
   "pygments_lexer": "r",
   "version": "4.2.1"
  }
 },
 "nbformat": 4,
 "nbformat_minor": 5
}
